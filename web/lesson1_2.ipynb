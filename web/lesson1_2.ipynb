{
 "cells": [
  {
   "cell_type": "code",
   "execution_count": 9,
   "id": "6a5b5617",
   "metadata": {},
   "outputs": [
    {
     "name": "stdout",
     "output_type": "stream",
     "text": [
      "3024 數學\n"
     ]
    }
   ],
   "source": [
    "math = 6*7*8*9#運算三次\n",
    "print(math,\"數學\")"
   ]
  },
  {
   "cell_type": "code",
   "execution_count": 11,
   "id": "b87d2315",
   "metadata": {},
   "outputs": [
    {
     "data": {
      "text/plain": [
       "256"
      ]
     },
     "execution_count": 11,
     "metadata": {},
     "output_type": "execute_result"
    }
   ],
   "source": [
    "2 ** 8#次方"
   ]
  },
  {
   "cell_type": "code",
   "execution_count": 20,
   "id": "91d121fa",
   "metadata": {},
   "outputs": [
    {
     "data": {
      "text/plain": [
       "10"
      ]
     },
     "execution_count": 20,
     "metadata": {},
     "output_type": "execute_result"
    }
   ],
   "source": [
    "2*(1+2)**2-2**2*2"
   ]
  },
  {
   "cell_type": "code",
   "execution_count": 21,
   "id": "f641c390",
   "metadata": {},
   "outputs": [
    {
     "data": {
      "text/plain": [
       "1"
      ]
     },
     "execution_count": 21,
     "metadata": {},
     "output_type": "execute_result"
    }
   ],
   "source": [
    "int(True)"
   ]
  },
  {
   "cell_type": "code",
   "execution_count": 23,
   "id": "a88479bc",
   "metadata": {},
   "outputs": [
    {
     "data": {
      "text/plain": [
       "0"
      ]
     },
     "execution_count": 23,
     "metadata": {},
     "output_type": "execute_result"
    }
   ],
   "source": [
    "int(False)"
   ]
  },
  {
   "cell_type": "code",
   "execution_count": 24,
   "id": "4fa8c1c9",
   "metadata": {},
   "outputs": [
    {
     "data": {
      "text/plain": [
       "123"
      ]
     },
     "execution_count": 24,
     "metadata": {},
     "output_type": "execute_result"
    }
   ],
   "source": [
    "int(\"123\")"
   ]
  },
  {
   "cell_type": "code",
   "execution_count": 31,
   "id": "a8d0d181",
   "metadata": {},
   "outputs": [
    {
     "data": {
      "text/plain": [
       "'123s'"
      ]
     },
     "execution_count": 31,
     "metadata": {},
     "output_type": "execute_result"
    }
   ],
   "source": [
    "str('123s')"
   ]
  },
  {
   "cell_type": "code",
   "execution_count": 32,
   "id": "28981b61",
   "metadata": {},
   "outputs": [
    {
     "data": {
      "text/plain": [
       "'hello'"
      ]
     },
     "execution_count": 32,
     "metadata": {},
     "output_type": "execute_result"
    }
   ],
   "source": [
    "'hello'"
   ]
  },
  {
   "cell_type": "code",
   "execution_count": 33,
   "id": "2f72f94b",
   "metadata": {},
   "outputs": [
    {
     "data": {
      "text/plain": [
       "'hello'"
      ]
     },
     "execution_count": 33,
     "metadata": {},
     "output_type": "execute_result"
    }
   ],
   "source": [
    "\"hello\""
   ]
  },
  {
   "cell_type": "code",
   "execution_count": 40,
   "id": "175a04a2",
   "metadata": {},
   "outputs": [
    {
     "name": "stdout",
     "output_type": "stream",
     "text": [
      "數學數學數學\n",
      "數學數學數學\n",
      "數學數學數學\n",
      "數學數學數學數學\n"
     ]
    }
   ],
   "source": [
    "pome = \"\"\"數學數學數學\n",
    "數學數學數學\n",
    "數學數學數學\n",
    "數學數學數學數學\"\"\"\n",
    "\n",
    "pome\n",
    "\n",
    "print(pome)"
   ]
  },
  {
   "cell_type": "code",
   "execution_count": 41,
   "id": "a4002ee8",
   "metadata": {},
   "outputs": [
    {
     "name": "stdout",
     "output_type": "stream",
     "text": [
      "打字啊以為我不敢？\n"
     ]
    },
    {
     "data": {
      "text/plain": [
       "'以為我不敢？'"
      ]
     },
     "execution_count": 41,
     "metadata": {},
     "output_type": "execute_result"
    }
   ],
   "source": [
    "input(\"打字啊\")＃輸出是子串"
   ]
  },
  {
   "cell_type": "code",
   "execution_count": 42,
   "id": "1d7ef24f",
   "metadata": {},
   "outputs": [
    {
     "name": "stdout",
     "output_type": "stream",
     "text": [
      "輸入金額344\n"
     ]
    },
    {
     "data": {
      "text/plain": [
       "344"
      ]
     },
     "execution_count": 42,
     "metadata": {},
     "output_type": "execute_result"
    }
   ],
   "source": [
    "money = int(input(\"輸入金額\"))#輸出是字串所以要轉成int\n",
    "money"
   ]
  },
  {
   "cell_type": "code",
   "execution_count": 49,
   "id": "ed10756a",
   "metadata": {},
   "outputs": [
    {
     "data": {
      "text/plain": [
       "(45, 98, 99)"
      ]
     },
     "execution_count": 49,
     "metadata": {},
     "output_type": "execute_result"
    }
   ],
   "source": [
    "tu = (45,98,99)\n",
    "tu"
   ]
  },
  {
   "cell_type": "code",
   "execution_count": 50,
   "id": "d5208df3",
   "metadata": {},
   "outputs": [
    {
     "name": "stdout",
     "output_type": "stream",
     "text": [
      "45 98 99\n",
      "a=45\n",
      "b=98\n",
      "c=99\n"
     ]
    }
   ],
   "source": [
    "a, b, c= tu\n",
    "print(a,b,c)\n",
    "print(\"a=%d\" % a)\n",
    "print(\"b={}\".format(b))\n",
    "print(f\"c={c}\")"
   ]
  },
  {
   "cell_type": "code",
   "execution_count": 51,
   "id": "eaedd5cb",
   "metadata": {},
   "outputs": [
    {
     "data": {
      "text/plain": [
       "30"
      ]
     },
     "execution_count": 51,
     "metadata": {},
     "output_type": "execute_result"
    }
   ],
   "source": [
    "x = 20\n",
    "x= x+10\n",
    "x"
   ]
  },
  {
   "cell_type": "code",
   "execution_count": 53,
   "id": "bb03e343",
   "metadata": {},
   "outputs": [
    {
     "data": {
      "text/plain": [
       "30"
      ]
     },
     "execution_count": 53,
     "metadata": {},
     "output_type": "execute_result"
    }
   ],
   "source": [
    "x = 20\n",
    "x += 10 # x=x+10\n",
    "x"
   ]
  },
  {
   "cell_type": "code",
   "execution_count": 55,
   "id": "fbce547f",
   "metadata": {},
   "outputs": [
    {
     "data": {
      "text/plain": [
       "200"
      ]
     },
     "execution_count": 55,
     "metadata": {},
     "output_type": "execute_result"
    }
   ],
   "source": [
    "x = 20\n",
    "x *= 10 # x=x*10\n",
    "x"
   ]
  },
  {
   "cell_type": "code",
   "execution_count": 58,
   "id": "1db5c3ce",
   "metadata": {},
   "outputs": [
    {
     "name": "stdout",
     "output_type": "stream",
     "text": [
      "空機價10000\n",
      "剩餘40000\n"
     ]
    }
   ],
   "source": [
    "money = 50000\n",
    "cp = int(input(\"空機價\"))\n",
    "money -= cp\n",
    "print(f\"剩餘{money}\")"
   ]
  },
  {
   "cell_type": "code",
   "execution_count": 62,
   "id": "e3db4341",
   "metadata": {},
   "outputs": [
    {
     "name": "stdout",
     "output_type": "stream",
     "text": [
      "請輸入任意數：3\n",
      "此數的平方是：9\n",
      "此數的立方是：27\n"
     ]
    }
   ],
   "source": [
    "x = float(input(\"請輸入任意數：\"))\n",
    "p = x * x\n",
    "y = x * x * x\n",
    "print(f\"此數的平方是：{p}\")\n",
    "print(f\"此數的立方是：{y}\")"
   ]
  },
  {
   "cell_type": "code",
   "execution_count": 64,
   "id": "0613aebd",
   "metadata": {},
   "outputs": [
    {
     "name": "stdout",
     "output_type": "stream",
     "text": [
      "請輸入第一個數：88\n",
      "請輸入第二個數：88\n",
      "請輸入第三個數：88\n",
      "三個數的總和為：264\n"
     ]
    }
   ],
   "source": [
    "f = float(input(\"請輸入第一個數：\"))\n",
    "s = float(input(\"請輸入第二個數：\"))\n",
    "t = float(input(\"請輸入第三個數：\"))\n",
    "sum = f+s+t\n",
    "print(f\"三個數的總和為：{sum}\")"
   ]
  },
  {
   "cell_type": "code",
   "execution_count": 67,
   "id": "26f4c1d9",
   "metadata": {},
   "outputs": [
    {
     "name": "stdout",
     "output_type": "stream",
     "text": [
      "請輸入梯形上底（公分）：34\n",
      "請輸入梯形下底（公分）：55\n",
      "請輸入梯形的高（公分）：44\n",
      "梯形面積：1958.0\n"
     ]
    }
   ],
   "source": [
    "t = float(input(\"請輸入梯形上底（公分）：\"))\n",
    "d = float(input(\"請輸入梯形下底（公分）：\"))\n",
    "h = float(input(\"請輸入梯形的高（公分）：\"))\n",
    "\n",
    "math = ((t+d)*h)/2\n",
    "\n",
    "print(f\"梯形面積：{math}\")"
   ]
  },
  {
   "cell_type": "code",
   "execution_count": 68,
   "id": "a1b0d6d3",
   "metadata": {},
   "outputs": [
    {
     "name": "stdout",
     "output_type": "stream",
     "text": [
      "請輸入圓柱體的半徑（公分）：10\n",
      "請輸入圓柱體的高（公分）：5\n",
      "圓柱體體積：1570.7963\n"
     ]
    }
   ],
   "source": [
    "t = float(input(\"請輸入圓柱體的半徑（公分）：\"))\n",
    "h = float(input(\"請輸入圓柱體的高（公分）：\"))\n",
    "\n",
    "math = 3.1415926*(t*t)*h\n",
    "\n",
    "print(f\"圓柱體體積：{math}\")"
   ]
  },
  {
   "cell_type": "code",
   "execution_count": null,
   "id": "9ba6d82e",
   "metadata": {},
   "outputs": [],
   "source": []
  }
 ],
 "metadata": {
  "kernelspec": {
   "display_name": "Python 3 (ipykernel)",
   "language": "python",
   "name": "python3"
  },
  "language_info": {
   "codemirror_mode": {
    "name": "ipython",
    "version": 3
   },
   "file_extension": ".py",
   "mimetype": "text/x-python",
   "name": "python",
   "nbconvert_exporter": "python",
   "pygments_lexer": "ipython3",
   "version": "3.9.0"
  }
 },
 "nbformat": 4,
 "nbformat_minor": 5
}
