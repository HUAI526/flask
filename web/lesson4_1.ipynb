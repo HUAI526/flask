{
 "cells": [
  {
   "cell_type": "code",
   "execution_count": 47,
   "id": "2c895676",
   "metadata": {},
   "outputs": [
    {
     "data": {
      "text/plain": [
       "11"
      ]
     },
     "execution_count": 47,
     "metadata": {},
     "output_type": "execute_result"
    }
   ],
   "source": [
    "numbers = '@0123456789'\n",
    "len(numbers)"
   ]
  },
  {
   "cell_type": "code",
   "execution_count": 48,
   "id": "9f2e82a1",
   "metadata": {},
   "outputs": [
    {
     "data": {
      "text/plain": [
       "[]"
      ]
     },
     "execution_count": 48,
     "metadata": {},
     "output_type": "execute_result"
    }
   ],
   "source": [
    "empty = []\n",
    "empty"
   ]
  },
  {
   "cell_type": "code",
   "execution_count": 49,
   "id": "00f0bd4b",
   "metadata": {},
   "outputs": [
    {
     "data": {
      "text/plain": [
       "140413131678768"
      ]
     },
     "execution_count": 49,
     "metadata": {},
     "output_type": "execute_result"
    }
   ],
   "source": [
    "allnumbers = numbers\n",
    "id(allnumbers)"
   ]
  },
  {
   "cell_type": "code",
   "execution_count": 50,
   "id": "250bd288",
   "metadata": {},
   "outputs": [
    {
     "data": {
      "text/plain": [
       "140413131678768"
      ]
     },
     "execution_count": 50,
     "metadata": {},
     "output_type": "execute_result"
    }
   ],
   "source": [
    "id(numbers)"
   ]
  },
  {
   "cell_type": "code",
   "execution_count": 51,
   "id": "21337727",
   "metadata": {},
   "outputs": [
    {
     "data": {
      "text/plain": [
       "'56789'"
      ]
     },
     "execution_count": 51,
     "metadata": {},
     "output_type": "execute_result"
    }
   ],
   "source": [
    "#numbers[-1:] = '@' 字串只可以取得值\n",
    "numbers[-5:] #取出最後5個"
   ]
  },
  {
   "cell_type": "code",
   "execution_count": 52,
   "id": "a98d24d9",
   "metadata": {},
   "outputs": [
    {
     "data": {
      "text/plain": [
       "'@0123'"
      ]
     },
     "execution_count": 52,
     "metadata": {},
     "output_type": "execute_result"
    }
   ],
   "source": [
    "numbers[:5] #取出前5個"
   ]
  },
  {
   "cell_type": "code",
   "execution_count": 53,
   "id": "76bd010f",
   "metadata": {},
   "outputs": [
    {
     "data": {
      "text/plain": [
       "'90123456789'"
      ]
     },
     "execution_count": 53,
     "metadata": {},
     "output_type": "execute_result"
    }
   ],
   "source": [
    "#.replace(), 把@改成9\n",
    "numbers = numbers.replace('@', '9')\n",
    "numbers"
   ]
  },
  {
   "cell_type": "code",
   "execution_count": 54,
   "id": "721d3779",
   "metadata": {},
   "outputs": [
    {
     "name": "stdout",
     "output_type": "stream",
     "text": [
      "140413058030000\n",
      "140413058030032\n"
     ]
    }
   ],
   "source": [
    "#記憶體是兩個位置,a改掉之後會等系統回收\n",
    "a = 5\n",
    "print(id(a))\n",
    "\n",
    "a = 6\n",
    "print(id(a))"
   ]
  },
  {
   "cell_type": "code",
   "execution_count": 56,
   "id": "6b7dd9c1",
   "metadata": {},
   "outputs": [
    {
     "data": {
      "text/plain": [
       "-1"
      ]
     },
     "execution_count": 56,
     "metadata": {},
     "output_type": "execute_result"
    }
   ],
   "source": [
    "# .find()\n",
    "str1 = \"this is python\"\n",
    "serch1 = 'python'\n",
    "str1.find(serch1)\n",
    "\n",
    "serch2 = \"zzz\"\n",
    "str1.find(serch2) #-1是找不到的意思"
   ]
  },
  {
   "cell_type": "code",
   "execution_count": 57,
   "id": "daf6bb3c",
   "metadata": {},
   "outputs": [
    {
     "data": {
      "text/plain": [
       "'a-b-c'"
      ]
     },
     "execution_count": 57,
     "metadata": {},
     "output_type": "execute_result"
    }
   ],
   "source": [
    "# .split(),  .join()\n",
    "str = '-'\n",
    "str.join(\"abc\")\n"
   ]
  },
  {
   "cell_type": "code",
   "execution_count": 61,
   "id": "95e71997",
   "metadata": {},
   "outputs": [
    {
     "data": {
      "text/plain": [
       "'python~~java~~c++'"
      ]
     },
     "execution_count": 61,
     "metadata": {},
     "output_type": "execute_result"
    }
   ],
   "source": [
    "str4 = \"python-java-c++\"\n",
    "list = str4.split(\"-\")#遇到這個符號就切割出來\n",
    "list\n",
    "\"~~\".join(list)#加入"
   ]
  },
  {
   "cell_type": "code",
   "execution_count": 66,
   "id": "d7068766",
   "metadata": {},
   "outputs": [
    {
     "data": {
      "text/plain": [
       "'abcdefghijklmnopqrstuvwxyz'"
      ]
     },
     "execution_count": 66,
     "metadata": {},
     "output_type": "execute_result"
    }
   ],
   "source": [
    "letters = 'abcdefghijklmnopqrstuvwxyz...'\n",
    "letters.strip('.')#去掉 ."
   ]
  },
  {
   "cell_type": "code",
   "execution_count": 67,
   "id": "e0da2654",
   "metadata": {},
   "outputs": [
    {
     "data": {
      "text/plain": [
       "'Abcdefghijklmnopqrstuvwxyz...'"
      ]
     },
     "execution_count": 67,
     "metadata": {},
     "output_type": "execute_result"
    }
   ],
   "source": [
    "letters.capitalize()#字首大寫"
   ]
  },
  {
   "cell_type": "code",
   "execution_count": 68,
   "id": "a3367306",
   "metadata": {},
   "outputs": [
    {
     "data": {
      "text/plain": [
       "'ABCDEFGHIJKLMNOPQRSTUVWXYZ...'"
      ]
     },
     "execution_count": 68,
     "metadata": {},
     "output_type": "execute_result"
    }
   ],
   "source": [
    "letters.upper()#全部大寫"
   ]
  },
  {
   "cell_type": "code",
   "execution_count": 69,
   "id": "8e86bd31",
   "metadata": {},
   "outputs": [
    {
     "name": "stdout",
     "output_type": "stream",
     "text": [
      "a\tb\n"
     ]
    }
   ],
   "source": [
    "import re\n",
    "print(\"a\\tb\")"
   ]
  },
  {
   "cell_type": "code",
   "execution_count": 70,
   "id": "7e33e15f",
   "metadata": {},
   "outputs": [
    {
     "name": "stdout",
     "output_type": "stream",
     "text": [
      "a\\tb\n"
     ]
    }
   ],
   "source": [
    "print(r\"a\\tb\")"
   ]
  },
  {
   "cell_type": "code",
   "execution_count": 72,
   "id": "c515fbca",
   "metadata": {},
   "outputs": [
    {
     "name": "stdout",
     "output_type": "stream",
     "text": [
      "<re.Match object; span=(0, 5), match='Hello'>\n"
     ]
    }
   ],
   "source": [
    "#re.match(pattern,string,flags=0)\n",
    "strText = \"Hello python\"\n",
    "matchObject = re.match(r'hello', strText,re.I)#re.I代表不管大小寫\n",
    "print(matchObject)"
   ]
  },
  {
   "cell_type": "code",
   "execution_count": 79,
   "id": "f53f3f26",
   "metadata": {},
   "outputs": [
    {
     "name": "stdout",
     "output_type": "stream",
     "text": [
      "比對符合\n",
      "cats are smarter than dogs\n",
      "cats\n",
      "smarter\n",
      "than\n",
      "dogs\n"
     ]
    }
   ],
   "source": [
    "line = \"cats are smarter than dogs\"\n",
    "pattern = r'(.*) are (.*) (.*) (.*)'#are前面的空格有（.*）.代表任何字元 ＊代表不分數量\n",
    "\n",
    "matchObject = re.match(pattern, line, re.I)\n",
    "\n",
    "if matchObject:\n",
    "    print(\"比對符合\")\n",
    "    print(matchObject.group())\n",
    "    print(matchObject.group(1))\n",
    "    print(matchObject.group(2))\n",
    "    print(matchObject.group(3))\n",
    "    print(matchObject.group(4))\n",
    "else:\n",
    "    print(\"比對不符合\")"
   ]
  },
  {
   "cell_type": "code",
   "execution_count": 83,
   "id": "7f930902",
   "metadata": {},
   "outputs": [
    {
     "name": "stdout",
     "output_type": "stream",
     "text": [
      "有找到\n",
      "(6, 12)\n"
     ]
    }
   ],
   "source": [
    "#serach找尋有沒有\n",
    "str = \"hello python programming\"\n",
    "searchObject = re.search(r'PYTHON', str, re.I)#re.T不在乎大小寫\n",
    "\n",
    "if searchObject:\n",
    "    print(\"有找到\")\n",
    "    print(searchObject.span())#位置在\n",
    "else:\n",
    "    print(\"找不到\")"
   ]
  },
  {
   "cell_type": "code",
   "execution_count": 85,
   "id": "996fb5e4",
   "metadata": {},
   "outputs": [
    {
     "data": {
      "text/plain": [
       "[('http://www.', '', '', '')]"
      ]
     },
     "execution_count": 85,
     "metadata": {},
     "output_type": "execute_result"
    }
   ],
   "source": [
    "pattern1 = r'(http:\\/\\/www\\.|https:\\/\\/www\\.|http:\\/\\/|https:\\/\\/)?[a-z0-9]+([\\-\\.]{1}[a-z0-9]+)*\\.[a-z]{2,5}(:[0-9]{1,5})?(\\/.*)?$'\n",
    "str = 'http://www.gogle.com'\n",
    "\n",
    "re.findall(pattern1, str)"
   ]
  },
  {
   "cell_type": "code",
   "execution_count": 88,
   "id": "76d9ba9b",
   "metadata": {},
   "outputs": [
    {
     "data": {
      "text/plain": [
       "<re.Match object; span=(0, 10), match='1998-05-26'>"
      ]
     },
     "execution_count": 88,
     "metadata": {},
     "output_type": "execute_result"
    }
   ],
   "source": [
    "pattern2 = r'([12]\\d{3}-(0[1-9]|1[0-2])-(0[1-9]|[12]\\d|3[01]))'\n",
    "str = '1998-05-26'\n",
    "re.match(pattern2, str)"
   ]
  },
  {
   "cell_type": "code",
   "execution_count": null,
   "id": "0e8acdb3",
   "metadata": {},
   "outputs": [],
   "source": []
  }
 ],
 "metadata": {
  "kernelspec": {
   "display_name": "Python 3 (ipykernel)",
   "language": "python",
   "name": "python3"
  },
  "language_info": {
   "codemirror_mode": {
    "name": "ipython",
    "version": 3
   },
   "file_extension": ".py",
   "mimetype": "text/x-python",
   "name": "python",
   "nbconvert_exporter": "python",
   "pygments_lexer": "ipython3",
   "version": "3.9.0"
  }
 },
 "nbformat": 4,
 "nbformat_minor": 5
}
