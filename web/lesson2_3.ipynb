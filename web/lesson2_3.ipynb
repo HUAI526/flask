{
 "cells": [
  {
   "cell_type": "code",
   "execution_count": 4,
   "id": "2edabd44",
   "metadata": {},
   "outputs": [
    {
     "data": {
      "text/plain": [
       "list"
      ]
     },
     "execution_count": 4,
     "metadata": {},
     "output_type": "execute_result"
    }
   ],
   "source": [
    "empty_list = []\n",
    "empty_list\n",
    "empty_list.__class__"
   ]
  },
  {
   "cell_type": "code",
   "execution_count": 5,
   "id": "d1ff44ab",
   "metadata": {},
   "outputs": [
    {
     "data": {
      "text/plain": [
       "['星期一', '星期二', '星期三', '星期四', '星期五', '星期六', '星期日']"
      ]
     },
     "execution_count": 5,
     "metadata": {},
     "output_type": "execute_result"
    }
   ],
   "source": [
    "weekdays = ['星期一', '星期二', '星期三', '星期四', '星期五', '星期六', '星期日']\n",
    "weekdays"
   ]
  },
  {
   "cell_type": "code",
   "execution_count": 8,
   "id": "5d6b31bc",
   "metadata": {},
   "outputs": [
    {
     "name": "stdout",
     "output_type": "stream",
     "text": [
      "星期一\n",
      "星期二\n",
      "星期三\n",
      "星期四\n",
      "星期五\n",
      "星期六\n",
      "星期日\n"
     ]
    }
   ],
   "source": [
    "for week in weekdays:\n",
    "    print(week)"
   ]
  },
  {
   "cell_type": "code",
   "execution_count": 10,
   "id": "5d5390f7",
   "metadata": {},
   "outputs": [
    {
     "data": {
      "text/plain": [
       "[]"
      ]
     },
     "execution_count": 10,
     "metadata": {},
     "output_type": "execute_result"
    }
   ],
   "source": [
    "another_empty = list()\n",
    "another_empty"
   ]
  },
  {
   "cell_type": "code",
   "execution_count": 11,
   "id": "8cb5aa35",
   "metadata": {},
   "outputs": [
    {
     "data": {
      "text/plain": [
       "['c', 'a', 't']"
      ]
     },
     "execution_count": 11,
     "metadata": {},
     "output_type": "execute_result"
    }
   ],
   "source": [
    "list('cat')"
   ]
  },
  {
   "cell_type": "code",
   "execution_count": 12,
   "id": "a05c5283",
   "metadata": {},
   "outputs": [
    {
     "data": {
      "text/plain": [
       "[1, 2, 3, 4, 5, 6, 7, 8, 9]"
      ]
     },
     "execution_count": 12,
     "metadata": {},
     "output_type": "execute_result"
    }
   ],
   "source": [
    "list(range(1,10))"
   ]
  },
  {
   "cell_type": "code",
   "execution_count": 13,
   "id": "a6baa4d7",
   "metadata": {},
   "outputs": [
    {
     "data": {
      "text/plain": [
       "['add', 'egg', 'abc']"
      ]
     },
     "execution_count": 13,
     "metadata": {},
     "output_type": "execute_result"
    }
   ],
   "source": [
    "list(('add', 'egg', 'abc'))"
   ]
  },
  {
   "cell_type": "code",
   "execution_count": 15,
   "id": "18c1a64c",
   "metadata": {},
   "outputs": [
    {
     "data": {
      "text/plain": [
       "'台北'"
      ]
     },
     "execution_count": 15,
     "metadata": {},
     "output_type": "execute_result"
    }
   ],
   "source": [
    "citys = ['台北', '台中', '高雄']\n",
    "citys[-3]"
   ]
  },
  {
   "cell_type": "code",
   "execution_count": 18,
   "id": "3ed6212c",
   "metadata": {},
   "outputs": [
    {
     "data": {
      "text/plain": [
       "['h', 'e', 'l', 'l', 'o', 'w', 'o', 'r', 'l ', 'd']"
      ]
     },
     "execution_count": 18,
     "metadata": {},
     "output_type": "execute_result"
    }
   ],
   "source": [
    "list1 = ['h', 'e', 'l', 'l', 'o', 'w', 'o', 'r', 'l ','d']\n",
    "list1\n"
   ]
  },
  {
   "cell_type": "code",
   "execution_count": 19,
   "id": "6239d25d",
   "metadata": {},
   "outputs": [
    {
     "data": {
      "text/plain": [
       "['h', 'e']"
      ]
     },
     "execution_count": 19,
     "metadata": {},
     "output_type": "execute_result"
    }
   ],
   "source": [
    "list1[0:2]"
   ]
  },
  {
   "cell_type": "code",
   "execution_count": 20,
   "id": "a19f64ce",
   "metadata": {},
   "outputs": [
    {
     "data": {
      "text/plain": [
       "['h', 'e', 'l', 'l', 'o']"
      ]
     },
     "execution_count": 20,
     "metadata": {},
     "output_type": "execute_result"
    }
   ],
   "source": [
    "list1[:5]"
   ]
  },
  {
   "cell_type": "code",
   "execution_count": 22,
   "id": "5f908e2f",
   "metadata": {},
   "outputs": [
    {
     "data": {
      "text/plain": [
       "['w', 'o', 'r', 'l ', 'd']"
      ]
     },
     "execution_count": 22,
     "metadata": {},
     "output_type": "execute_result"
    }
   ],
   "source": [
    "list1[-5:]"
   ]
  },
  {
   "cell_type": "code",
   "execution_count": 24,
   "id": "93608f05",
   "metadata": {},
   "outputs": [
    {
     "data": {
      "text/plain": [
       "[['筆記電腦', '商用筆電'], ['apple', 'asus', 'htc'], [3, '冰箱', 2, '洗衣機']]"
      ]
     },
     "execution_count": 24,
     "metadata": {},
     "output_type": "execute_result"
    }
   ],
   "source": [
    "nb = ['筆記電腦', '商用筆電']\n",
    "mobile = ['apple', 'asus', 'htc']\n",
    "home = [3, '冰箱', 2, '洗衣機']\n",
    "\n",
    "all3c = [nb, mobile, home]\n",
    "all3c"
   ]
  },
  {
   "cell_type": "code",
   "execution_count": 25,
   "id": "772bdd69",
   "metadata": {},
   "outputs": [
    {
     "data": {
      "text/plain": [
       "'冰箱'"
      ]
     },
     "execution_count": 25,
     "metadata": {},
     "output_type": "execute_result"
    }
   ],
   "source": [
    "all3c[2][1]"
   ]
  },
  {
   "cell_type": "code",
   "execution_count": 27,
   "id": "114fdca3",
   "metadata": {},
   "outputs": [
    {
     "data": {
      "text/plain": [
       "['1', '2', '3']"
      ]
     },
     "execution_count": 27,
     "metadata": {},
     "output_type": "execute_result"
    }
   ],
   "source": [
    "list1 = ['1', '2', '3']\n",
    "list1"
   ]
  },
  {
   "cell_type": "code",
   "execution_count": 28,
   "id": "1c27fca4",
   "metadata": {},
   "outputs": [
    {
     "data": {
      "text/plain": [
       "3"
      ]
     },
     "execution_count": 28,
     "metadata": {},
     "output_type": "execute_result"
    }
   ],
   "source": [
    "len(list1)"
   ]
  },
  {
   "cell_type": "code",
   "execution_count": 30,
   "id": "f4a0f7d3",
   "metadata": {},
   "outputs": [
    {
     "data": {
      "text/plain": [
       "['1', '2', '3', '4']"
      ]
     },
     "execution_count": 30,
     "metadata": {},
     "output_type": "execute_result"
    }
   ],
   "source": [
    "list1.append('4')\n",
    "list1"
   ]
  },
  {
   "cell_type": "code",
   "execution_count": 42,
   "id": "57febd9b",
   "metadata": {},
   "outputs": [
    {
     "data": {
      "text/plain": [
       "[[92, 75, 79, 71, 89, 406],\n",
       " [100, 99, 100, 79, 82, 460],\n",
       " [74, 95, 64, 81, 69, 383],\n",
       " [90, 63, 91, 89, 96, 429],\n",
       " [69, 78, 87, 83, 62, 379],\n",
       " [70, 75, 96, 63, 82, 386],\n",
       " [95, 80, 65, 93, 82, 415],\n",
       " [91, 86, 60, 65, 65, 367],\n",
       " [74, 99, 72, 97, 69, 411],\n",
       " [81, 70, 66, 91, 69, 377],\n",
       " [91, 64, 96, 89, 79, 419],\n",
       " [66, 92, 60, 64, 69, 351],\n",
       " [66, 70, 98, 86, 98, 418],\n",
       " [86, 63, 84, 89, 73, 395],\n",
       " [60, 62, 94, 81, 62, 359],\n",
       " [87, 97, 71, 69, 76, 400],\n",
       " [66, 65, 74, 80, 81, 366],\n",
       " [95, 61, 62, 75, 66, 359],\n",
       " [78, 88, 91, 71, 65, 393],\n",
       " [65, 95, 84, 65, 73, 382],\n",
       " [81, 60, 96, 66, 73, 376],\n",
       " [71, 63, 85, 73, 87, 379],\n",
       " [62, 88, 77, 61, 100, 388],\n",
       " [68, 60, 100, 75, 90, 393],\n",
       " [88, 80, 77, 80, 97, 422],\n",
       " [80, 77, 91, 82, 79, 409],\n",
       " [72, 74, 74, 87, 71, 378],\n",
       " [70, 89, 64, 70, 66, 359],\n",
       " [75, 65, 72, 61, 81, 354],\n",
       " [70, 90, 83, 79, 96, 418],\n",
       " [72, 74, 72, 65, 64, 347],\n",
       " [67, 95, 89, 65, 83, 399],\n",
       " [64, 77, 77, 61, 64, 343],\n",
       " [92, 91, 65, 91, 89, 428],\n",
       " [77, 95, 98, 93, 71, 434],\n",
       " [77, 92, 94, 61, 83, 407],\n",
       " [96, 76, 70, 94, 72, 408],\n",
       " [98, 84, 89, 93, 72, 436],\n",
       " [70, 98, 100, 93, 92, 453],\n",
       " [71, 95, 67, 73, 77, 383],\n",
       " [64, 79, 83, 74, 73, 373],\n",
       " [82, 90, 100, 67, 74, 413],\n",
       " [95, 74, 83, 94, 65, 411],\n",
       " [82, 78, 99, 98, 81, 438],\n",
       " [60, 63, 62, 87, 94, 366],\n",
       " [99, 92, 73, 75, 98, 437],\n",
       " [89, 66, 86, 65, 92, 398],\n",
       " [100, 100, 80, 97, 88, 465],\n",
       " [88, 71, 62, 97, 99, 417],\n",
       " [93, 64, 81, 61, 97, 396]]"
      ]
     },
     "execution_count": 42,
     "metadata": {},
     "output_type": "execute_result"
    }
   ],
   "source": [
    "import random as rd\n",
    "student_nums = 50\n",
    "students = []\n",
    "for i in range(student_nums):\n",
    "    scores = [0,0,0,0,0]\n",
    "    sum = 0\n",
    "    for j in range(5):\n",
    "        scores[j] = rd.randint(60,100)\n",
    "        sum += scores[j]\n",
    "    scores.append(sum)\n",
    "    students.append(scores)\n",
    "    \n",
    "    \n",
    "students"
   ]
  },
  {
   "cell_type": "code",
   "execution_count": 43,
   "id": "303428d6",
   "metadata": {},
   "outputs": [
    {
     "data": {
      "text/plain": [
       "'taiwan'"
      ]
     },
     "execution_count": 43,
     "metadata": {},
     "output_type": "execute_result"
    }
   ],
   "source": [
    "codes = {\"tw\":\"taiwan\",\n",
    "         \"jp\":\"japan\",\n",
    "        \"hk\":\"hong kong\"}\n",
    "codes[\"tw\"]"
   ]
  },
  {
   "cell_type": "code",
   "execution_count": 44,
   "id": "6d65a89e",
   "metadata": {},
   "outputs": [
    {
     "data": {
      "text/plain": [
       "'japan'"
      ]
     },
     "execution_count": 44,
     "metadata": {},
     "output_type": "execute_result"
    }
   ],
   "source": [
    "codes[\"jp\"]"
   ]
  },
  {
   "cell_type": "code",
   "execution_count": 45,
   "id": "abc65e7f",
   "metadata": {},
   "outputs": [
    {
     "data": {
      "text/plain": [
       "'hong kong'"
      ]
     },
     "execution_count": 45,
     "metadata": {},
     "output_type": "execute_result"
    }
   ],
   "source": [
    "codes['hk']"
   ]
  },
  {
   "cell_type": "code",
   "execution_count": null,
   "id": "a38c7d8f",
   "metadata": {},
   "outputs": [],
   "source": []
  }
 ],
 "metadata": {
  "kernelspec": {
   "display_name": "Python 3 (ipykernel)",
   "language": "python",
   "name": "python3"
  },
  "language_info": {
   "codemirror_mode": {
    "name": "ipython",
    "version": 3
   },
   "file_extension": ".py",
   "mimetype": "text/x-python",
   "name": "python",
   "nbconvert_exporter": "python",
   "pygments_lexer": "ipython3",
   "version": "3.9.0"
  }
 },
 "nbformat": 4,
 "nbformat_minor": 5
}
