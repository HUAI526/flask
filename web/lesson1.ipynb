{
 "cells": [
  {
   "cell_type": "code",
   "execution_count": 1,
   "id": "53ea5084",
   "metadata": {},
   "outputs": [
    {
     "name": "stdout",
     "output_type": "stream",
     "text": [
      "1\n",
      "第一個\n"
     ]
    }
   ],
   "source": [
    "print(\"1\")\n",
    "print(\"第一個\")"
   ]
  },
  {
   "cell_type": "code",
   "execution_count": 2,
   "id": "0be504a8",
   "metadata": {},
   "outputs": [
    {
     "name": "stdout",
     "output_type": "stream",
     "text": [
      "2\n",
      "第二個\n"
     ]
    }
   ],
   "source": [
    "print(\"2\")\n",
    "print(\"第二個\")"
   ]
  },
  {
   "cell_type": "code",
   "execution_count": 4,
   "id": "ed9dc184",
   "metadata": {},
   "outputs": [
    {
     "data": {
      "text/plain": [
       "int"
      ]
     },
     "execution_count": 4,
     "metadata": {},
     "output_type": "execute_result"
    }
   ],
   "source": [
    "x = 100\n",
    "x.__class__"
   ]
  },
  {
   "cell_type": "code",
   "execution_count": 5,
   "id": "0d5cdef5",
   "metadata": {},
   "outputs": [
    {
     "data": {
      "text/plain": [
       "str"
      ]
     },
     "execution_count": 5,
     "metadata": {},
     "output_type": "execute_result"
    }
   ],
   "source": [
    "x = \"100\"\n",
    "x.__class__"
   ]
  },
  {
   "cell_type": "code",
   "execution_count": 6,
   "id": "37c22b60",
   "metadata": {},
   "outputs": [
    {
     "data": {
      "text/plain": [
       "float"
      ]
     },
     "execution_count": 6,
     "metadata": {},
     "output_type": "execute_result"
    }
   ],
   "source": [
    "x = 100.000\n",
    "x.__class__"
   ]
  },
  {
   "cell_type": "code",
   "execution_count": 8,
   "id": "d161838a",
   "metadata": {},
   "outputs": [
    {
     "data": {
      "text/plain": [
       "bool"
      ]
     },
     "execution_count": 8,
     "metadata": {},
     "output_type": "execute_result"
    }
   ],
   "source": [
    "x = True\n",
    "x.__class__"
   ]
  },
  {
   "cell_type": "code",
   "execution_count": 9,
   "id": "c8fb381b",
   "metadata": {},
   "outputs": [
    {
     "name": "stdout",
     "output_type": "stream",
     "text": [
      "3\n",
      "3.12\n",
      "字串\n",
      "7\n"
     ]
    }
   ],
   "source": [
    "print(3)\n",
    "print(3.12)\n",
    "print(\"字串\")\n",
    "print(3+4)"
   ]
  },
  {
   "cell_type": "code",
   "execution_count": 10,
   "id": "ea3ecd22",
   "metadata": {},
   "outputs": [
    {
     "name": "stdout",
     "output_type": "stream",
     "text": [
      "five 5 12345 10\n"
     ]
    }
   ],
   "source": [
    "print(\"five\", 5, 12345, 5+5)"
   ]
  },
  {
   "cell_type": "code",
   "execution_count": 11,
   "id": "b1461e73",
   "metadata": {},
   "outputs": [],
   "source": [
    "#python 註解"
   ]
  },
  {
   "cell_type": "code",
   "execution_count": 14,
   "id": "f2ec00b1",
   "metadata": {},
   "outputs": [
    {
     "name": "stdout",
     "output_type": "stream",
     "text": [
      "a=100,b=50\n"
     ]
    }
   ],
   "source": [
    "#舊字串寫法\n",
    "a = 100\n",
    "b = 50\n",
    "print(\"a=%d,b=%d\"%(a,b))"
   ]
  },
  {
   "cell_type": "code",
   "execution_count": 15,
   "id": "ae377a85",
   "metadata": {},
   "outputs": [
    {
     "name": "stdout",
     "output_type": "stream",
     "text": [
      "c是77.77\n"
     ]
    }
   ],
   "source": [
    "c = 77.77\n",
    "print(\"c是%.2f\"%c)"
   ]
  },
  {
   "cell_type": "code",
   "execution_count": 16,
   "id": "c4fdbe4d",
   "metadata": {},
   "outputs": [
    {
     "name": "stdout",
     "output_type": "stream",
     "text": [
      "a=100,b=50\n"
     ]
    }
   ],
   "source": [
    "#新字串寫法\n",
    "a = 100\n",
    "b = 50\n",
    "print(\"a={},b={}\".format(a,b))#print(\"a={:d},b={:d}\".format(a,b)) int"
   ]
  },
  {
   "cell_type": "code",
   "execution_count": 17,
   "id": "fc63473e",
   "metadata": {},
   "outputs": [
    {
     "name": "stdout",
     "output_type": "stream",
     "text": [
      "c=345.543\n"
     ]
    }
   ],
   "source": [
    "c = 345.543\n",
    "print(\"c={}\".format(c))#print(\"c={:.2f}\".format(c)) float"
   ]
  },
  {
   "cell_type": "code",
   "execution_count": 19,
   "id": "6abb582e",
   "metadata": {},
   "outputs": [
    {
     "name": "stdout",
     "output_type": "stream",
     "text": [
      "a=100,b=50\n"
     ]
    }
   ],
   "source": [
    "#字串插補的寫法\n",
    "a = 100\n",
    "b = 50\n",
    "print(f\"a={a},b={b}\")"
   ]
  },
  {
   "cell_type": "code",
   "execution_count": 20,
   "id": "e6c7679a",
   "metadata": {},
   "outputs": [
    {
     "name": "stdout",
     "output_type": "stream",
     "text": [
      "c=345.543\n"
     ]
    }
   ],
   "source": [
    "c = 345.543\n",
    "print(f\"c={c}\")"
   ]
  },
  {
   "cell_type": "code",
   "execution_count": null,
   "id": "c33bb292",
   "metadata": {},
   "outputs": [],
   "source": []
  }
 ],
 "metadata": {
  "kernelspec": {
   "display_name": "Python 3 (ipykernel)",
   "language": "python",
   "name": "python3"
  },
  "language_info": {
   "codemirror_mode": {
    "name": "ipython",
    "version": 3
   },
   "file_extension": ".py",
   "mimetype": "text/x-python",
   "name": "python",
   "nbconvert_exporter": "python",
   "pygments_lexer": "ipython3",
   "version": "3.9.0"
  }
 },
 "nbformat": 4,
 "nbformat_minor": 5
}
