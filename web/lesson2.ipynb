{
 "cells": [
  {
   "cell_type": "code",
   "execution_count": null,
   "id": "76ba7ce9",
   "metadata": {},
   "outputs": [],
   "source": [
    "a = 110\n",
    "if a>100:\n",
    "    print(\"大於100\")\n",
    "else:\n",
    "    print(\"小於100\")\n",
    "    \n",
    "print(\"over\")"
   ]
  },
  {
   "cell_type": "code",
   "execution_count": null,
   "id": "62dbb344",
   "metadata": {},
   "outputs": [],
   "source": [
    "age = int(input(\"請輸入年齡：\"))\n",
    "\n",
    "if age>20:\n",
    "    print(\"成人\")\n",
    "elif age>13:\n",
    "    print(\"青少年\")\n",
    "else:\n",
    "    print(\"兒童\")"
   ]
  },
  {
   "cell_type": "code",
   "execution_count": 13,
   "id": "22d2b3a9",
   "metadata": {},
   "outputs": [
    {
     "name": "stdout",
     "output_type": "stream",
     "text": [
      "請輸入成績：99\n",
      "甲\n"
     ]
    }
   ],
   "source": [
    "g = int(input(\"請輸入成績：\"))\n",
    "\n",
    "if g >= 80:\n",
    "    print(\"甲\")\n",
    "elif g >= 70:\n",
    "    print(\"乙\")\n",
    "elif g >= 60:\n",
    "    print(\"丙\")\n",
    "else:\n",
    "    print(\"丁\")"
   ]
  },
  {
   "cell_type": "code",
   "execution_count": 14,
   "id": "9af522fa",
   "metadata": {},
   "outputs": [
    {
     "name": "stdout",
     "output_type": "stream",
     "text": [
      "請輸入國文分數100\n",
      "請輸入英文分數100\n",
      "1000\n"
     ]
    }
   ],
   "source": [
    "chi = int(input(\"請輸入國文分數\"))\n",
    "eng = int(input(\"請輸入英文分數\"))\n",
    "\n",
    "\n",
    "if chi ==100 and eng==100:\n",
    "    print(\"1000\")\n",
    "elif chi ==100 or eng==100:\n",
    "    print(\"500\")\n",
    "else :\n",
    "    print(\"0\")"
   ]
  },
  {
   "cell_type": "code",
   "execution_count": 26,
   "id": "05549c1f",
   "metadata": {},
   "outputs": [
    {
     "name": "stdout",
     "output_type": "stream",
     "text": [
      "請輸入身高（公分)177\n",
      "請輸入體重（公斤)45\n",
      "BMI= 14.36 身體狀況太輕\n"
     ]
    }
   ],
   "source": [
    "h = float(input(\"請輸入身高（公分)\"))\n",
    "g = float(input(\"請輸入體重（公斤)\"))\n",
    "\n",
    "bmi = g / (h/100)**2\n",
    "BMI = round(bmi,2)\n",
    "\n",
    "if BMI <18.5:\n",
    "    print(\"BMI=\", BMI, \"身體狀況太輕\")\n",
    "elif BMI >= 18.5 and BMI <25:\n",
    "    print(\"BMI=\", BMI, \"身體狀況正常\")\n",
    "elif BMI >= 25 and BMI <30:\n",
    "    print(\"BMI=\", BMI, \"身體狀況過重\")\n",
    "else :\n",
    "    print(\"BMI=\", BMI, \"身體狀況肥胖\")\n"
   ]
  },
  {
   "cell_type": "code",
   "execution_count": null,
   "id": "a261b700",
   "metadata": {},
   "outputs": [],
   "source": []
  }
 ],
 "metadata": {
  "kernelspec": {
   "display_name": "Python 3 (ipykernel)",
   "language": "python",
   "name": "python3"
  },
  "language_info": {
   "codemirror_mode": {
    "name": "ipython",
    "version": 3
   },
   "file_extension": ".py",
   "mimetype": "text/x-python",
   "name": "python",
   "nbconvert_exporter": "python",
   "pygments_lexer": "ipython3",
   "version": "3.9.0"
  }
 },
 "nbformat": 4,
 "nbformat_minor": 5
}
