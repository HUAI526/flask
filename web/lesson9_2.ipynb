{
 "cells": [
  {
   "cell_type": "code",
   "execution_count": 1,
   "id": "4ae7f4e1",
   "metadata": {},
   "outputs": [
    {
     "data": {
      "text/plain": [
       "datetime.date(2018, 10, 9)"
      ]
     },
     "execution_count": 1,
     "metadata": {},
     "output_type": "execute_result"
    }
   ],
   "source": [
    "from datetime import date\n",
    "halloween = date(2018, 10, 9)\n",
    "halloween"
   ]
  },
  {
   "cell_type": "code",
   "execution_count": 2,
   "id": "4b535f3a",
   "metadata": {},
   "outputs": [
    {
     "data": {
      "text/plain": [
       "2018"
      ]
     },
     "execution_count": 2,
     "metadata": {},
     "output_type": "execute_result"
    }
   ],
   "source": [
    "halloween.year"
   ]
  },
  {
   "cell_type": "code",
   "execution_count": 3,
   "id": "4df0de49",
   "metadata": {},
   "outputs": [
    {
     "data": {
      "text/plain": [
       "9"
      ]
     },
     "execution_count": 3,
     "metadata": {},
     "output_type": "execute_result"
    }
   ],
   "source": [
    "halloween.day\n"
   ]
  },
  {
   "cell_type": "code",
   "execution_count": 4,
   "id": "ef6d384c",
   "metadata": {},
   "outputs": [
    {
     "data": {
      "text/plain": [
       "'2018-10-09'"
      ]
     },
     "execution_count": 4,
     "metadata": {},
     "output_type": "execute_result"
    }
   ],
   "source": [
    "halloween.isoformat()"
   ]
  },
  {
   "cell_type": "code",
   "execution_count": 6,
   "id": "814139a4",
   "metadata": {},
   "outputs": [
    {
     "data": {
      "text/plain": [
       "datetime.date(2022, 1, 14)"
      ]
     },
     "execution_count": 6,
     "metadata": {},
     "output_type": "execute_result"
    }
   ],
   "source": [
    "date.today()"
   ]
  },
  {
   "cell_type": "code",
   "execution_count": 7,
   "id": "70be7aba",
   "metadata": {},
   "outputs": [
    {
     "data": {
      "text/plain": [
       "datetime.date(2022, 1, 15)"
      ]
     },
     "execution_count": 7,
     "metadata": {},
     "output_type": "execute_result"
    }
   ],
   "source": [
    "from datetime import date\n",
    "from datetime import timedelta\n",
    "\n",
    "now = date.today()\n",
    "one_day = timedelta(days=1)\n",
    "tomorrow = now + one_day\n",
    "tomorrow"
   ]
  },
  {
   "cell_type": "code",
   "execution_count": 9,
   "id": "a73e9f77",
   "metadata": {},
   "outputs": [
    {
     "data": {
      "text/plain": [
       "datetime.date(2022, 2, 1)"
      ]
     },
     "execution_count": 9,
     "metadata": {},
     "output_type": "execute_result"
    }
   ],
   "source": [
    "now + (one_day)*18"
   ]
  },
  {
   "cell_type": "code",
   "execution_count": 10,
   "id": "879230d4",
   "metadata": {},
   "outputs": [
    {
     "data": {
      "text/plain": [
       "datetime.date(2022, 1, 13)"
      ]
     },
     "execution_count": 10,
     "metadata": {},
     "output_type": "execute_result"
    }
   ],
   "source": [
    "now - (one_day)"
   ]
  },
  {
   "cell_type": "code",
   "execution_count": 11,
   "id": "ed765479",
   "metadata": {},
   "outputs": [
    {
     "data": {
      "text/plain": [
       "datetime.time(12, 0)"
      ]
     },
     "execution_count": 11,
     "metadata": {},
     "output_type": "execute_result"
    }
   ],
   "source": [
    "from datetime import time\n",
    "noon = time(hour=12, minute=0, second=0)\n",
    "noon"
   ]
  },
  {
   "cell_type": "code",
   "execution_count": 12,
   "id": "38f2bf22",
   "metadata": {},
   "outputs": [
    {
     "data": {
      "text/plain": [
       "12"
      ]
     },
     "execution_count": 12,
     "metadata": {},
     "output_type": "execute_result"
    }
   ],
   "source": [
    "noon.hour"
   ]
  },
  {
   "cell_type": "code",
   "execution_count": 13,
   "id": "d0b2cbeb",
   "metadata": {},
   "outputs": [
    {
     "data": {
      "text/plain": [
       "0"
      ]
     },
     "execution_count": 13,
     "metadata": {},
     "output_type": "execute_result"
    }
   ],
   "source": [
    "noon.minute"
   ]
  },
  {
   "cell_type": "code",
   "execution_count": 14,
   "id": "ff8b38eb",
   "metadata": {},
   "outputs": [
    {
     "data": {
      "text/plain": [
       "0"
      ]
     },
     "execution_count": 14,
     "metadata": {},
     "output_type": "execute_result"
    }
   ],
   "source": [
    "noon.second"
   ]
  },
  {
   "cell_type": "code",
   "execution_count": 15,
   "id": "51468aec",
   "metadata": {},
   "outputs": [
    {
     "data": {
      "text/plain": [
       "datetime.datetime(2021, 1, 2, 3, 4, 5, 6)"
      ]
     },
     "execution_count": 15,
     "metadata": {},
     "output_type": "execute_result"
    }
   ],
   "source": [
    "from datetime import datetime\n",
    "some_day = datetime(2021,1,2,3,4,5,6)\n",
    "some_day"
   ]
  },
  {
   "cell_type": "code",
   "execution_count": 16,
   "id": "75ed0867",
   "metadata": {},
   "outputs": [
    {
     "data": {
      "text/plain": [
       "'2021-01-02T03:04:05.000006'"
      ]
     },
     "execution_count": 16,
     "metadata": {},
     "output_type": "execute_result"
    }
   ],
   "source": [
    "some_day.isoformat()"
   ]
  },
  {
   "cell_type": "code",
   "execution_count": 17,
   "id": "ce23de8d",
   "metadata": {},
   "outputs": [
    {
     "data": {
      "text/plain": [
       "datetime.datetime(2022, 1, 14, 11, 10, 1, 83967)"
      ]
     },
     "execution_count": 17,
     "metadata": {},
     "output_type": "execute_result"
    }
   ],
   "source": [
    "from datetime import datetime\n",
    "now = datetime.now()\n",
    "now"
   ]
  },
  {
   "cell_type": "code",
   "execution_count": 18,
   "id": "a28e532e",
   "metadata": {},
   "outputs": [
    {
     "data": {
      "text/plain": [
       "False"
      ]
     },
     "execution_count": 18,
     "metadata": {},
     "output_type": "execute_result"
    }
   ],
   "source": [
    "some_day > now"
   ]
  },
  {
   "cell_type": "code",
   "execution_count": 20,
   "id": "27fef2a8",
   "metadata": {},
   "outputs": [
    {
     "data": {
      "text/plain": [
       "datetime.datetime(2022, 1, 14, 12, 0)"
      ]
     },
     "execution_count": 20,
     "metadata": {},
     "output_type": "execute_result"
    }
   ],
   "source": [
    "from datetime import datetime, time, date\n",
    "noon = time(12)\n",
    "this_day = date.today()\n",
    "noon_today = datetime.combine(this_day,noon)\n",
    "noon_today"
   ]
  },
  {
   "cell_type": "code",
   "execution_count": 26,
   "id": "2db505dc",
   "metadata": {},
   "outputs": [
    {
     "name": "stdout",
     "output_type": "stream",
     "text": [
      "2022\n",
      "1\n",
      "14\n"
     ]
    }
   ],
   "source": [
    "now = datetime.now()\n",
    "now_date=now.date()\n",
    "print(now_date.year)\n",
    "print(now_date.month)\n",
    "print(now_date.day)"
   ]
  },
  {
   "cell_type": "code",
   "execution_count": 28,
   "id": "f86d00a3",
   "metadata": {},
   "outputs": [
    {
     "name": "stdout",
     "output_type": "stream",
     "text": [
      "11\n",
      "20\n",
      "2\n"
     ]
    }
   ],
   "source": [
    "\n",
    "now_time=now.time()\n",
    "print(now_time.hour)\n",
    "print(now_time.minute)\n",
    "print(now_time.second)"
   ]
  },
  {
   "cell_type": "code",
   "execution_count": 32,
   "id": "da59f2cb",
   "metadata": {},
   "outputs": [
    {
     "data": {
      "text/plain": [
       "datetime.datetime(2022, 1, 27, 12, 0)"
      ]
     },
     "execution_count": 32,
     "metadata": {},
     "output_type": "execute_result"
    }
   ],
   "source": [
    "from datetime import datetime\n",
    "dateString = '20220127120000'\n",
    "datetimeObj = datetime.strptime(dateString,\"%Y%m%d%H%M%S\")\n",
    "datetimeObj"
   ]
  },
  {
   "cell_type": "code",
   "execution_count": 33,
   "id": "f439248e",
   "metadata": {},
   "outputs": [
    {
     "data": {
      "text/plain": [
       "'2022-01-27 12:00:00'"
      ]
     },
     "execution_count": 33,
     "metadata": {},
     "output_type": "execute_result"
    }
   ],
   "source": [
    "datetimeObj.strftime(\"%Y-%m-%d %H:%M:%S\")"
   ]
  },
  {
   "cell_type": "code",
   "execution_count": null,
   "id": "663aa55b",
   "metadata": {},
   "outputs": [],
   "source": []
  }
 ],
 "metadata": {
  "kernelspec": {
   "display_name": "Python 3 (ipykernel)",
   "language": "python",
   "name": "python3"
  },
  "language_info": {
   "codemirror_mode": {
    "name": "ipython",
    "version": 3
   },
   "file_extension": ".py",
   "mimetype": "text/x-python",
   "name": "python",
   "nbconvert_exporter": "python",
   "pygments_lexer": "ipython3",
   "version": "3.9.0"
  }
 },
 "nbformat": 4,
 "nbformat_minor": 5
}
