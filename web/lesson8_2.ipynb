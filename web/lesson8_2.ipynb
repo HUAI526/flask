{
 "cells": [
  {
   "cell_type": "code",
   "execution_count": 8,
   "id": "459340df",
   "metadata": {},
   "outputs": [],
   "source": [
    "#檢查檔案, 檢查目錄, 建立目錄, 建立檔案\n",
    "\n",
    "import os\n",
    "\n",
    "text = '''妳好\n",
    "1.機機物彎彎'''\n",
    "\n",
    "filename = 'test1.txt'\n",
    "os.path.exists('./save/'+filename)\n",
    "if not os.path.exists('./save/'+filename):\n",
    "    if not os.path.isdir('./save'):\n",
    "        os.mkdir('./save')\n",
    "        file = open('./save/'+filename,mode='w')\n",
    "        file.write(text)\n",
    "        file.close()"
   ]
  },
  {
   "cell_type": "code",
   "execution_count": 12,
   "id": "068f6558",
   "metadata": {},
   "outputs": [
    {
     "data": {
      "text/plain": [
       "[[84, 57, 93, 63, 98],\n",
       " [77, 76, 79, 79, 63],\n",
       " [73, 67, 88, 72, 87],\n",
       " [60, 92, 90, 77, 71],\n",
       " [74, 62, 93, 72, 81],\n",
       " [60, 86, 78, 96, 62],\n",
       " [82, 81, 89, 72, 93],\n",
       " [71, 69, 63, 54, 64],\n",
       " [73, 59, 61, 84, 99],\n",
       " [99, 96, 58, 61, 66],\n",
       " [66, 65, 65, 80, 51],\n",
       " [74, 100, 91, 55, 64],\n",
       " [86, 80, 88, 72, 57],\n",
       " [83, 61, 94, 61, 98],\n",
       " [62, 75, 56, 79, 58],\n",
       " [66, 79, 68, 81, 89],\n",
       " [98, 95, 76, 63, 52],\n",
       " [58, 95, 75, 53, 56],\n",
       " [98, 76, 50, 70, 100],\n",
       " [59, 59, 90, 80, 100],\n",
       " [73, 76, 58, 58, 53],\n",
       " [82, 95, 74, 80, 85],\n",
       " [91, 67, 74, 71, 89],\n",
       " [72, 95, 82, 98, 94],\n",
       " [100, 91, 74, 85, 90],\n",
       " [62, 80, 74, 81, 55],\n",
       " [97, 53, 70, 81, 80],\n",
       " [71, 82, 62, 75, 67],\n",
       " [84, 70, 54, 54, 91],\n",
       " [60, 94, 99, 50, 100],\n",
       " [68, 90, 62, 52, 57],\n",
       " [82, 82, 89, 66, 80],\n",
       " [92, 93, 52, 96, 67],\n",
       " [84, 57, 50, 89, 94],\n",
       " [87, 87, 95, 68, 50],\n",
       " [66, 92, 100, 80, 61],\n",
       " [67, 79, 67, 94, 50],\n",
       " [66, 88, 92, 75, 98],\n",
       " [79, 62, 75, 98, 60],\n",
       " [51, 86, 88, 100, 63],\n",
       " [55, 60, 97, 79, 53],\n",
       " [66, 71, 51, 90, 97],\n",
       " [82, 97, 88, 78, 59],\n",
       " [93, 60, 84, 86, 80],\n",
       " [86, 57, 97, 73, 70],\n",
       " [56, 94, 50, 89, 95],\n",
       " [84, 97, 68, 53, 68],\n",
       " [68, 50, 56, 86, 97],\n",
       " [75, 79, 89, 78, 85],\n",
       " [52, 93, 89, 50, 67]]"
      ]
     },
     "execution_count": 12,
     "metadata": {},
     "output_type": "execute_result"
    }
   ],
   "source": [
    "#建立50位學生, 每位學生5個分數\n",
    "import random\n",
    "\n",
    "students = []\n",
    "for i in range(50):\n",
    "    scores = []\n",
    "    for j in range(5):\n",
    "        scores.append(random.randint(50,100))\n",
    "    students.append(scores)\n",
    "students"
   ]
  },
  {
   "cell_type": "code",
   "execution_count": 18,
   "id": "d4951541",
   "metadata": {},
   "outputs": [],
   "source": [
    "import os\n",
    "\n",
    "students = [[random.randint(50,100) for _ in range(5)]for _ in range(50)]\n",
    "str(students)\n",
    "\n",
    "if not os.path.isdir('./save'):\n",
    "    os.mkdir('./save')\n",
    "else:\n",
    "    if not os.path.exists('./save/students.txt'):\n",
    "        file = open('./save/students.txt', mode='w')\n",
    "        file.write(str(students))\n",
    "        file.close()"
   ]
  },
  {
   "cell_type": "code",
   "execution_count": 19,
   "id": "65aa227c",
   "metadata": {},
   "outputs": [
    {
     "name": "stdout",
     "output_type": "stream",
     "text": [
      "leo __enter__\n",
      "leo\n",
      "leo __exit__\n"
     ]
    }
   ],
   "source": [
    "class Resource():\n",
    "    def __init__(self,name):\n",
    "        self.name = name\n",
    "    def __enter__(self):\n",
    "        print(self.name, '__enter__')\n",
    "        return self\n",
    "    def __exit__(self, type, value, traceback):\n",
    "        print(self.name, '__exit__')\n",
    "        return False\n",
    "    \n",
    "with Resource('leo') as res:\n",
    "    print(res.name)\n"
   ]
  },
  {
   "cell_type": "code",
   "execution_count": 28,
   "id": "ee4a371a",
   "metadata": {},
   "outputs": [
    {
     "name": "stdout",
     "output_type": "stream",
     "text": [
      "寫入成功\n",
      "關閉檔案\n"
     ]
    }
   ],
   "source": [
    "#建立csv檔\n",
    "import csv\n",
    "import os\n",
    "filename = 'students.csv'\n",
    "if os.path.isdir('./save') and not os.path.exists('./save'+filename):\n",
    "    with open('./save/'+filename,mode='w',newline='',encoding='utf-8') as file:\n",
    "        writerObject = csv.writer(file)\n",
    "        writerObject.writerow(['國文','英文','數學','地理','自然'])\n",
    "        for student in students:\n",
    "            writerObject.writerow(student)\n",
    "        print('寫入成功')\n",
    "    print('關閉檔案')\n"
   ]
  },
  {
   "cell_type": "code",
   "execution_count": 29,
   "id": "7a78b999",
   "metadata": {},
   "outputs": [
    {
     "data": {
      "text/plain": [
       "[['國文', '英文', '數學', '地理', '自然'],\n",
       " ['55', '66', '78', '66', '51'],\n",
       " ['64', '81', '85', '52', '65'],\n",
       " ['78', '90', '80', '66', '99'],\n",
       " ['57', '79', '75', '85', '64'],\n",
       " ['100', '89', '69', '98', '53'],\n",
       " ['99', '98', '100', '82', '60'],\n",
       " ['79', '67', '60', '62', '58'],\n",
       " ['50', '94', '92', '99', '88'],\n",
       " ['53', '70', '88', '99', '91'],\n",
       " ['60', '72', '63', '74', '77'],\n",
       " ['78', '85', '56', '60', '83'],\n",
       " ['89', '95', '64', '62', '76'],\n",
       " ['80', '92', '53', '70', '66'],\n",
       " ['55', '100', '59', '99', '66'],\n",
       " ['88', '67', '79', '99', '97'],\n",
       " ['69', '68', '54', '68', '79'],\n",
       " ['50', '51', '51', '64', '62'],\n",
       " ['66', '76', '93', '77', '54'],\n",
       " ['75', '85', '84', '68', '66'],\n",
       " ['91', '50', '76', '70', '70'],\n",
       " ['53', '77', '65', '64', '79'],\n",
       " ['85', '98', '51', '67', '77'],\n",
       " ['64', '90', '89', '63', '86'],\n",
       " ['66', '53', '69', '58', '98'],\n",
       " ['57', '61', '84', '53', '65'],\n",
       " ['95', '92', '79', '92', '54'],\n",
       " ['72', '76', '58', '100', '79'],\n",
       " ['67', '65', '60', '99', '88'],\n",
       " ['78', '70', '58', '69', '50'],\n",
       " ['95', '88', '97', '84', '66'],\n",
       " ['52', '95', '92', '98', '67'],\n",
       " ['92', '56', '57', '94', '61'],\n",
       " ['84', '62', '82', '78', '93'],\n",
       " ['76', '51', '60', '73', '95'],\n",
       " ['86', '55', '59', '51', '81'],\n",
       " ['84', '85', '95', '57', '68'],\n",
       " ['77', '93', '84', '63', '96'],\n",
       " ['68', '95', '84', '80', '87'],\n",
       " ['61', '68', '69', '78', '93'],\n",
       " ['61', '90', '55', '100', '67'],\n",
       " ['55', '80', '67', '55', '50'],\n",
       " ['60', '60', '66', '63', '81'],\n",
       " ['93', '56', '100', '79', '92'],\n",
       " ['59', '87', '61', '94', '76'],\n",
       " ['98', '67', '89', '65', '69'],\n",
       " ['51', '91', '74', '78', '87'],\n",
       " ['92', '97', '79', '98', '86'],\n",
       " ['100', '75', '65', '97', '98'],\n",
       " ['78', '93', '84', '70', '60'],\n",
       " ['73', '81', '57', '73', '50']]"
      ]
     },
     "execution_count": 29,
     "metadata": {},
     "output_type": "execute_result"
    }
   ],
   "source": [
    "#讀取csv檔\n",
    "filename = 'students.csv'\n",
    "if os.path.exists('./save/'+filename):\n",
    "    with open('./save/'+filename,newline='') as file:\n",
    "        csvReader = csv.reader(file)\n",
    "        #for line in csvReader:\n",
    "         #   print(line)\n",
    "        csvlist = list(csvReader)\n",
    "csvlist"
   ]
  },
  {
   "cell_type": "code",
   "execution_count": null,
   "id": "3c13c331",
   "metadata": {},
   "outputs": [],
   "source": []
  },
  {
   "cell_type": "code",
   "execution_count": null,
   "id": "6c21f344",
   "metadata": {},
   "outputs": [],
   "source": []
  }
 ],
 "metadata": {
  "kernelspec": {
   "display_name": "Python 3 (ipykernel)",
   "language": "python",
   "name": "python3"
  },
  "language_info": {
   "codemirror_mode": {
    "name": "ipython",
    "version": 3
   },
   "file_extension": ".py",
   "mimetype": "text/x-python",
   "name": "python",
   "nbconvert_exporter": "python",
   "pygments_lexer": "ipython3",
   "version": "3.9.0"
  }
 },
 "nbformat": 4,
 "nbformat_minor": 5
}
