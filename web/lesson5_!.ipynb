{
 "cells": [
  {
   "cell_type": "code",
   "execution_count": 1,
   "id": "ea770d45",
   "metadata": {},
   "outputs": [
    {
     "name": "stdout",
     "output_type": "stream",
     "text": [
      "呼叫函式\n"
     ]
    }
   ],
   "source": [
    "#定義一個function 沒有參數也沒有回傳值\n",
    "def fun_sum():\n",
    "    print(\"呼叫函式\")\n",
    "    return\n",
    "fun_sum()"
   ]
  },
  {
   "cell_type": "code",
   "execution_count": 2,
   "id": "2c384da7",
   "metadata": {},
   "outputs": [],
   "source": [
    "def do_nothing():\n",
    "    pass\n",
    "do_nothing()"
   ]
  },
  {
   "cell_type": "code",
   "execution_count": 3,
   "id": "8833d4a9",
   "metadata": {},
   "outputs": [
    {
     "name": "stdout",
     "output_type": "stream",
     "text": [
      "quack\n"
     ]
    }
   ],
   "source": [
    "def make_a_sound():\n",
    "    print('quack')\n",
    "make_a_sound()"
   ]
  },
  {
   "cell_type": "code",
   "execution_count": 6,
   "id": "ae6ece53",
   "metadata": {
    "scrolled": true
   },
   "outputs": [
    {
     "data": {
      "text/plain": [
       "10"
      ]
     },
     "execution_count": 6,
     "metadata": {},
     "output_type": "execute_result"
    }
   ],
   "source": [
    "#使用引數位置呼叫\n",
    "def fun_sum(a,b):\n",
    "    c = a + b\n",
    "    return c\n",
    "d = fun_sum(5,5)\n",
    "d"
   ]
  },
  {
   "cell_type": "code",
   "execution_count": 7,
   "id": "6f4cca53",
   "metadata": {},
   "outputs": [
    {
     "data": {
      "text/plain": [
       "12"
      ]
     },
     "execution_count": 7,
     "metadata": {},
     "output_type": "execute_result"
    }
   ],
   "source": [
    "#使用引數名稱呼叫\n",
    "d = fun_sum(a=7,b=5)\n",
    "d"
   ]
  },
  {
   "cell_type": "code",
   "execution_count": 8,
   "id": "9c65bc66",
   "metadata": {},
   "outputs": [
    {
     "data": {
      "text/plain": [
       "12"
      ]
     },
     "execution_count": 8,
     "metadata": {},
     "output_type": "execute_result"
    }
   ],
   "source": [
    "#使用引數名稱呼叫 可以不照順序\n",
    "d = fun_sum(b=7,a=5)\n",
    "d"
   ]
  },
  {
   "cell_type": "code",
   "execution_count": 10,
   "id": "c5b4633a",
   "metadata": {},
   "outputs": [
    {
     "data": {
      "text/plain": [
       "12"
      ]
     },
     "execution_count": 10,
     "metadata": {},
     "output_type": "execute_result"
    }
   ],
   "source": [
    "#引數位置和引數名稱混合呼叫\n",
    "#前面必須引數位置呼叫\n",
    "#後面使用引數名稱 使用引數名稱之後 全部都要使用引數名稱呼叫\n",
    "d = fun_sum(7,b=5)\n",
    "d"
   ]
  },
  {
   "cell_type": "code",
   "execution_count": 11,
   "id": "0af333b0",
   "metadata": {},
   "outputs": [
    {
     "name": "stdout",
     "output_type": "stream",
     "text": [
      "1 8 15\n"
     ]
    }
   ],
   "source": [
    "#function傳出多個值\n",
    "def manyvalue(a,b):\n",
    "    c = a*b\n",
    "    return (a-2, b+3, c)\n",
    "x,y,z = manyvalue(3, 5)\n",
    "print(x, y, z)"
   ]
  },
  {
   "cell_type": "code",
   "execution_count": 17,
   "id": "7e38086d",
   "metadata": {},
   "outputs": [
    {
     "data": {
      "text/plain": [
       "30"
      ]
     },
     "execution_count": 17,
     "metadata": {},
     "output_type": "execute_result"
    }
   ],
   "source": [
    "#call by value\n",
    "def turbo(speed):\n",
    "    speed += 10\n",
    "    return speed\n",
    "speed = 20\n",
    "speed = turbo(speed)\n",
    "speed"
   ]
  },
  {
   "cell_type": "code",
   "execution_count": 31,
   "id": "fb691f3a",
   "metadata": {},
   "outputs": [
    {
     "data": {
      "text/plain": [
       "10"
      ]
     },
     "execution_count": 31,
     "metadata": {},
     "output_type": "execute_result"
    }
   ],
   "source": [
    "#call by reference\n",
    "def turbo(listSpeed):\n",
    "    listSpeed[0] += 10\n",
    "listS = [0]\n",
    "turbo(listS)\n",
    "listS[0]"
   ]
  },
  {
   "cell_type": "code",
   "execution_count": 32,
   "id": "f4100801",
   "metadata": {},
   "outputs": [
    {
     "name": "stdout",
     "output_type": "stream",
     "text": [
      "文件中的 5\n",
      "function內a 10\n"
     ]
    }
   ],
   "source": [
    "#變數影響範圍\n",
    "a = 5\n",
    "def func_sum():\n",
    "    a = 10\n",
    "    print(\"function內a\", a)\n",
    "print(\"文件中的\", a)\n",
    "func_sum()"
   ]
  },
  {
   "cell_type": "code",
   "execution_count": 34,
   "id": "f494e69e",
   "metadata": {},
   "outputs": [
    {
     "name": "stdout",
     "output_type": "stream",
     "text": [
      "文件中的 5\n",
      "function內a 100\n",
      "文件中的 100\n"
     ]
    }
   ],
   "source": [
    "#變數影響範圍\n",
    "a = 5\n",
    "def func_sum():\n",
    "    #改變外部的a\n",
    "    global a\n",
    "    a = 100\n",
    "    print(\"function內a\", a)\n",
    "    \n",
    "print(\"文件中的\", a)#因為還沒跑function所以外部還沒改變\n",
    "func_sum()\n",
    "print(\"文件中的\", a)#已經跑完所以被改變了"
   ]
  },
  {
   "cell_type": "code",
   "execution_count": 35,
   "id": "09bf8129",
   "metadata": {},
   "outputs": [
    {
     "name": "stdout",
     "output_type": "stream",
     "text": [
      "沒東西\n"
     ]
    }
   ],
   "source": [
    "#None的使用\n",
    "#None 代表 false\n",
    "#thing = \"\"\n",
    "#thing = []\n",
    "#thing = {}\n",
    "thing = set()\n",
    "if thing:\n",
    "    print(\"有東西\")\n",
    "else:\n",
    "    print(\"沒東西\")"
   ]
  },
  {
   "cell_type": "code",
   "execution_count": 36,
   "id": "c37aa39a",
   "metadata": {},
   "outputs": [
    {
     "name": "stdout",
     "output_type": "stream",
     "text": [
      "是None\n"
     ]
    }
   ],
   "source": [
    "thing = None\n",
    "if thing is None:\n",
    "    print(\"是None\")"
   ]
  },
  {
   "cell_type": "code",
   "execution_count": 39,
   "id": "eb55f457",
   "metadata": {},
   "outputs": [
    {
     "name": "stdout",
     "output_type": "stream",
     "text": [
      "不是None\n"
     ]
    }
   ],
   "source": [
    "thing =\"\"\n",
    "if thing is not None:\n",
    "    print(\"不是None\")\n",
    "else:\n",
    "    print(\"是None\")"
   ]
  },
  {
   "cell_type": "code",
   "execution_count": 40,
   "id": "94469fd6",
   "metadata": {},
   "outputs": [
    {
     "data": {
      "text/plain": [
       "[1, 2, 3, 4, 5]"
      ]
     },
     "execution_count": 40,
     "metadata": {},
     "output_type": "execute_result"
    }
   ],
   "source": [
    "#建立list\n",
    "number_list = []\n",
    "for number in range(1,6):\n",
    "    number_list.append(number)\n",
    "number_list"
   ]
  },
  {
   "cell_type": "code",
   "execution_count": 42,
   "id": "ac56fb3d",
   "metadata": {},
   "outputs": [
    {
     "data": {
      "text/plain": [
       "[2, 4, 6, 8, 10, 12, 14, 16, 18]"
      ]
     },
     "execution_count": 42,
     "metadata": {},
     "output_type": "execute_result"
    }
   ],
   "source": [
    "#list comprehension --> 快速建立list\n",
    "number_list = [number*2 for number in range(1,10)]\n",
    "number_list"
   ]
  },
  {
   "cell_type": "code",
   "execution_count": 43,
   "id": "016c6141",
   "metadata": {},
   "outputs": [
    {
     "data": {
      "text/plain": [
       "[4, 8, 12, 16]"
      ]
     },
     "execution_count": 43,
     "metadata": {},
     "output_type": "execute_result"
    }
   ],
   "source": [
    "number_list = [number*2 for number in range(1,10) if number%2 == 0]\n",
    "number_list"
   ]
  },
  {
   "cell_type": "code",
   "execution_count": 52,
   "id": "cdc141a8",
   "metadata": {},
   "outputs": [
    {
     "data": {
      "text/plain": [
       "{'l': 1, 'e': 2, 't': 2, 'r': 1, 's': 1}"
      ]
     },
     "execution_count": 52,
     "metadata": {},
     "output_type": "execute_result"
    }
   ],
   "source": [
    "#dictionary comprehension\n",
    "word = 'letters'\n",
    "letter_counts = {letter:word.count(letter) for letter in word}\n",
    "letter_counts"
   ]
  },
  {
   "cell_type": "code",
   "execution_count": 53,
   "id": "a05528ca",
   "metadata": {},
   "outputs": [
    {
     "data": {
      "text/plain": [
       "{1, 4}"
      ]
     },
     "execution_count": 53,
     "metadata": {},
     "output_type": "execute_result"
    }
   ],
   "source": [
    "#set comprehension\n",
    "a_set = {number for number in range(1,6) if number % 3 == 1}\n",
    "a_set"
   ]
  },
  {
   "cell_type": "code",
   "execution_count": 55,
   "id": "1b6646a3",
   "metadata": {},
   "outputs": [
    {
     "data": {
      "text/plain": [
       "generator"
      ]
     },
     "execution_count": 55,
     "metadata": {},
     "output_type": "execute_result"
    }
   ],
   "source": [
    "#genertor\n",
    "number_thing = (number for number in range(1,6))\n",
    "type(number_thing)"
   ]
  },
  {
   "cell_type": "code",
   "execution_count": 56,
   "id": "00d77f3a",
   "metadata": {},
   "outputs": [
    {
     "name": "stdout",
     "output_type": "stream",
     "text": [
      "1\n",
      "2\n",
      "3\n",
      "4\n",
      "5\n"
     ]
    }
   ],
   "source": [
    "for i in number_thing:\n",
    "    print(i)"
   ]
  },
  {
   "cell_type": "code",
   "execution_count": 57,
   "id": "a12715e1",
   "metadata": {},
   "outputs": [],
   "source": [
    "for i in number_thing:#已經印出沒有值在裡面了（genertor）\n",
    "    print(i)"
   ]
  },
  {
   "cell_type": "code",
   "execution_count": 59,
   "id": "5f0d642a",
   "metadata": {},
   "outputs": [],
   "source": [
    "def my_ranges(first=0, last=0, step=1):\n",
    "    number = first\n",
    "    while number < last:\n",
    "        yield number#genertor\n",
    "        number += step\n",
    "ranges = my_ranges(1, 20, 3)"
   ]
  },
  {
   "cell_type": "code",
   "execution_count": 60,
   "id": "a60d4aa0",
   "metadata": {},
   "outputs": [
    {
     "name": "stdout",
     "output_type": "stream",
     "text": [
      "1\n",
      "4\n",
      "7\n",
      "10\n",
      "13\n",
      "16\n",
      "19\n"
     ]
    }
   ],
   "source": [
    "for i in ranges:\n",
    "    print(i)"
   ]
  },
  {
   "cell_type": "code",
   "execution_count": 61,
   "id": "38f20459",
   "metadata": {},
   "outputs": [],
   "source": [
    "for i in ranges:  #已經印出沒有值在裡面了（genertor）\n",
    "    print(i)"
   ]
  },
  {
   "cell_type": "code",
   "execution_count": 62,
   "id": "700b4598",
   "metadata": {},
   "outputs": [
    {
     "name": "stdout",
     "output_type": "stream",
     "text": [
      "要執行的心function: add_ints\n"
     ]
    }
   ],
   "source": [
    "#建立一個decorator\n",
    "\n",
    "def document_it(func):\n",
    "    def new_function():\n",
    "        print('要執行的心function:', func.__name__)\n",
    "    return new_function\n",
    "def add_ints(a, b):\n",
    "    return a+b\n",
    "newFunction = document_it(add_ints)\n",
    "newFunction()"
   ]
  },
  {
   "cell_type": "code",
   "execution_count": 65,
   "id": "a947fa37",
   "metadata": {},
   "outputs": [
    {
     "ename": "TypeError",
     "evalue": "document_it() missing 1 required positional argument: 'func'",
     "output_type": "error",
     "traceback": [
      "\u001b[0;31m---------------------------------------------------------------------------\u001b[0m",
      "\u001b[0;31mTypeError\u001b[0m                                 Traceback (most recent call last)",
      "\u001b[0;32m/var/folders/7v/hbknvt9s0m5g36ht814n1_wc0000gn/T/ipykernel_13220/1260332954.py\u001b[0m in \u001b[0;36m<module>\u001b[0;34m\u001b[0m\n\u001b[0;32m----> 1\u001b[0;31m \u001b[0;34m@\u001b[0m\u001b[0mdocument_it\u001b[0m\u001b[0;34m(\u001b[0m\u001b[0;34m)\u001b[0m\u001b[0;34m\u001b[0m\u001b[0;34m\u001b[0m\u001b[0m\n\u001b[0m\u001b[1;32m      2\u001b[0m \u001b[0;32mdef\u001b[0m \u001b[0madd_ints\u001b[0m\u001b[0;34m(\u001b[0m\u001b[0ma\u001b[0m\u001b[0;34m,\u001b[0m\u001b[0mb\u001b[0m\u001b[0;34m)\u001b[0m\u001b[0;34m:\u001b[0m\u001b[0;34m\u001b[0m\u001b[0;34m\u001b[0m\u001b[0m\n\u001b[1;32m      3\u001b[0m     \u001b[0;32mreturn\u001b[0m \u001b[0ma\u001b[0m\u001b[0;34m+\u001b[0m\u001b[0mb\u001b[0m\u001b[0;34m\u001b[0m\u001b[0;34m\u001b[0m\u001b[0m\n",
      "\u001b[0;31mTypeError\u001b[0m: document_it() missing 1 required positional argument: 'func'"
     ]
    }
   ],
   "source": [
    "@document_it()\n",
    "def add_ints(a,b):\n",
    "    return a+b"
   ]
  },
  {
   "cell_type": "code",
   "execution_count": 68,
   "id": "b12f8746",
   "metadata": {},
   "outputs": [
    {
     "ename": "ModuleNotFoundError",
     "evalue": "No module named 'Flask'",
     "output_type": "error",
     "traceback": [
      "\u001b[0;31m---------------------------------------------------------------------------\u001b[0m",
      "\u001b[0;31mModuleNotFoundError\u001b[0m                       Traceback (most recent call last)",
      "\u001b[0;32m/var/folders/7v/hbknvt9s0m5g36ht814n1_wc0000gn/T/ipykernel_13220/781291085.py\u001b[0m in \u001b[0;36m<module>\u001b[0;34m\u001b[0m\n\u001b[0;32m----> 1\u001b[0;31m \u001b[0;32mimport\u001b[0m \u001b[0mFlask\u001b[0m\u001b[0;34m\u001b[0m\u001b[0;34m\u001b[0m\u001b[0m\n\u001b[0m",
      "\u001b[0;31mModuleNotFoundError\u001b[0m: No module named 'Flask'"
     ]
    }
   ],
   "source": [
    "import Flask"
   ]
  },
  {
   "cell_type": "code",
   "execution_count": null,
   "id": "800de486",
   "metadata": {},
   "outputs": [],
   "source": []
  }
 ],
 "metadata": {
  "kernelspec": {
   "display_name": "Python 3 (ipykernel)",
   "language": "python",
   "name": "python3"
  },
  "language_info": {
   "codemirror_mode": {
    "name": "ipython",
    "version": 3
   },
   "file_extension": ".py",
   "mimetype": "text/x-python",
   "name": "python",
   "nbconvert_exporter": "python",
   "pygments_lexer": "ipython3",
   "version": "3.9.0"
  }
 },
 "nbformat": 4,
 "nbformat_minor": 5
}
