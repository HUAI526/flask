{
 "cells": [
  {
   "cell_type": "code",
   "execution_count": 39,
   "id": "be7074c9",
   "metadata": {},
   "outputs": [],
   "source": [
    "file = open('opp.txt',mode='w')\n",
    "print('建立一個文字檔', file=file)\n",
    "file.close()"
   ]
  },
  {
   "cell_type": "code",
   "execution_count": 40,
   "id": "a484d999",
   "metadata": {},
   "outputs": [
    {
     "name": "stdout",
     "output_type": "stream",
     "text": [
      "建立一個文字檔\n",
      "\n"
     ]
    }
   ],
   "source": [
    "file = open('opp.txt')\n",
    "print(file.read())\n",
    "file.close()"
   ]
  },
  {
   "cell_type": "code",
   "execution_count": 41,
   "id": "8bb1984d",
   "metadata": {},
   "outputs": [
    {
     "data": {
      "text/plain": [
       "True"
      ]
     },
     "execution_count": 41,
     "metadata": {},
     "output_type": "execute_result"
    }
   ],
   "source": [
    "#使用exists()檢查檔案是否存在\n",
    "import os\n",
    "os.path.exists('opp.txt')"
   ]
  },
  {
   "cell_type": "code",
   "execution_count": 42,
   "id": "86a952fe",
   "metadata": {},
   "outputs": [
    {
     "data": {
      "text/plain": [
       "True"
      ]
     },
     "execution_count": 42,
     "metadata": {},
     "output_type": "execute_result"
    }
   ],
   "source": [
    "os.path.exists('./opp.txt')"
   ]
  },
  {
   "cell_type": "code",
   "execution_count": 43,
   "id": "d089bb61",
   "metadata": {},
   "outputs": [
    {
     "data": {
      "text/plain": [
       "False"
      ]
     },
     "execution_count": 43,
     "metadata": {},
     "output_type": "execute_result"
    }
   ],
   "source": [
    "os.path.exists('./.gitignore')\n"
   ]
  },
  {
   "cell_type": "code",
   "execution_count": 44,
   "id": "068d708c",
   "metadata": {},
   "outputs": [
    {
     "data": {
      "text/plain": [
       "True"
      ]
     },
     "execution_count": 44,
     "metadata": {},
     "output_type": "execute_result"
    }
   ],
   "source": [
    "os.path.exists('../')"
   ]
  },
  {
   "cell_type": "code",
   "execution_count": 45,
   "id": "50474803",
   "metadata": {},
   "outputs": [
    {
     "data": {
      "text/plain": [
       "True"
      ]
     },
     "execution_count": 45,
     "metadata": {},
     "output_type": "execute_result"
    }
   ],
   "source": [
    "#isfile()\n",
    "os.path.isfile('opp.txt')"
   ]
  },
  {
   "cell_type": "code",
   "execution_count": 46,
   "id": "41c494d2",
   "metadata": {},
   "outputs": [
    {
     "data": {
      "text/plain": [
       "'/Users/huai/Desktop/python/環境/web/opp.txt'"
      ]
     },
     "execution_count": 46,
     "metadata": {},
     "output_type": "execute_result"
    }
   ],
   "source": [
    "#取絕對檔案路徑\n",
    "os.path.abspath('./opp.txt')"
   ]
  },
  {
   "cell_type": "code",
   "execution_count": 47,
   "id": "a6470437",
   "metadata": {},
   "outputs": [
    {
     "data": {
      "text/plain": [
       "'/Users/huai/Desktop/python/環境/web'"
      ]
     },
     "execution_count": 47,
     "metadata": {},
     "output_type": "execute_result"
    }
   ],
   "source": [
    "os.path.abspath('.')"
   ]
  },
  {
   "cell_type": "code",
   "execution_count": 48,
   "id": "8beaee8e",
   "metadata": {},
   "outputs": [
    {
     "data": {
      "text/plain": [
       "'/Users/huai/Desktop/python/環境'"
      ]
     },
     "execution_count": 48,
     "metadata": {},
     "output_type": "execute_result"
    }
   ],
   "source": [
    "os.path.abspath('../')"
   ]
  },
  {
   "cell_type": "code",
   "execution_count": 49,
   "id": "cf921260",
   "metadata": {},
   "outputs": [
    {
     "data": {
      "text/plain": [
       "'/Users/huai/Desktop/python'"
      ]
     },
     "execution_count": 49,
     "metadata": {},
     "output_type": "execute_result"
    }
   ],
   "source": [
    "os.path.abspath('../../')"
   ]
  },
  {
   "cell_type": "code",
   "execution_count": 50,
   "id": "6c15fbaf",
   "metadata": {},
   "outputs": [
    {
     "data": {
      "text/plain": [
       "True"
      ]
     },
     "execution_count": 50,
     "metadata": {},
     "output_type": "execute_result"
    }
   ],
   "source": [
    "os.path.isdir('.')"
   ]
  },
  {
   "cell_type": "code",
   "execution_count": 53,
   "id": "f3604546",
   "metadata": {},
   "outputs": [
    {
     "data": {
      "text/plain": [
       "False"
      ]
     },
     "execution_count": 53,
     "metadata": {},
     "output_type": "execute_result"
    }
   ],
   "source": [
    "os.remove('opp.txt')\n",
    "os.path.exists('opp.txt')"
   ]
  },
  {
   "cell_type": "code",
   "execution_count": 54,
   "id": "93353fc3",
   "metadata": {},
   "outputs": [],
   "source": [
    "if not os.path.isdir('abc'):\n",
    "    os.mkdir('abc')"
   ]
  },
  {
   "cell_type": "code",
   "execution_count": 56,
   "id": "eacd2554",
   "metadata": {},
   "outputs": [],
   "source": [
    "if not os.path.exists('./abc/a.txt'):\n",
    "    file = open('./abc/a.txt',mode='w')\n",
    "    print('hello!world',file=file)"
   ]
  },
  {
   "cell_type": "code",
   "execution_count": null,
   "id": "b7253454",
   "metadata": {
    "collapsed": true
   },
   "outputs": [],
   "source": []
  }
 ],
 "metadata": {
  "kernelspec": {
   "display_name": "Python 3 (ipykernel)",
   "language": "python",
   "name": "python3"
  },
  "language_info": {
   "codemirror_mode": {
    "name": "ipython",
    "version": 3
   },
   "file_extension": ".py",
   "mimetype": "text/x-python",
   "name": "python",
   "nbconvert_exporter": "python",
   "pygments_lexer": "ipython3",
   "version": "3.9.0"
  }
 },
 "nbformat": 4,
 "nbformat_minor": 5
}
