{
 "cells": [
  {
   "cell_type": "code",
   "execution_count": 1,
   "id": "da5b8ba7",
   "metadata": {},
   "outputs": [],
   "source": [
    "class Person():\n",
    "    pass\n",
    "someone = Person()"
   ]
  },
  {
   "cell_type": "code",
   "execution_count": 3,
   "id": "5d136ba1",
   "metadata": {},
   "outputs": [
    {
     "data": {
      "text/plain": [
       "'Robert'"
      ]
     },
     "execution_count": 3,
     "metadata": {},
     "output_type": "execute_result"
    }
   ],
   "source": [
    "class Person():\n",
    "    def __init__(self):\n",
    "        self.name = \"Robert\"\n",
    "        \n",
    "someone = Person()\n",
    "someone.name\n"
   ]
  },
  {
   "cell_type": "code",
   "execution_count": 11,
   "id": "f33bd3f9",
   "metadata": {},
   "outputs": [
    {
     "name": "stdout",
     "output_type": "stream",
     "text": [
      "<__main__.Person object at 0x7fc63fc53520>\n",
      "leo\n"
     ]
    }
   ],
   "source": [
    "class Person():\n",
    "    def __init__(self,name):\n",
    "        self.name = name\n",
    "        \n",
    "someone = Person('leo')\n",
    "print(someone)\n",
    "print(someone.name)"
   ]
  },
  {
   "cell_type": "code",
   "execution_count": 26,
   "id": "b2f48582",
   "metadata": {},
   "outputs": [
    {
     "name": "stdout",
     "output_type": "stream",
     "text": [
      "你的名字是tt\n",
      "你是tt\n"
     ]
    }
   ],
   "source": [
    "class Person():\n",
    "    def __init__(self,name):\n",
    "        self.name = name\n",
    "    \n",
    "    def __str__(self):#或是__repr__\n",
    "        return f'你是{self.name}'\n",
    "        \n",
    "#someone = Person('gg')\n",
    "x = input(\"你的名字是\")\n",
    "someone = Person(x)\n",
    "print(someone)\n",
    "#print(someone.name)"
   ]
  },
  {
   "cell_type": "code",
   "execution_count": null,
   "id": "c8cd2080",
   "metadata": {},
   "outputs": [],
   "source": [
    "class Car():\n",
    "    pass\n",
    "\n",
    "class Yugo(Car):\n",
    "    pass\n",
    "\n",
    "give_me_a_car = Car()\n",
    "give_me_a_yugo = Yugo()\n",
    "\n"
   ]
  },
  {
   "cell_type": "code",
   "execution_count": 31,
   "id": "612c74a3",
   "metadata": {},
   "outputs": [
    {
     "name": "stdout",
     "output_type": "stream",
     "text": [
      "我是car\n",
      "我是Yugo\n",
      "只有子類別有這個method\n"
     ]
    }
   ],
   "source": [
    "class Car():\n",
    "    def exclaim(self):\n",
    "        print(\"我是car\")\n",
    "\n",
    "class Yugo(Car):\n",
    "    #覆寫父類別的method,因為他繼承Car的東西，所以要複寫才不會印出我是car,不信你可以把下面兩行先刪掉\n",
    "    def exclaim(self):\n",
    "        print(\"我是Yugo\")\n",
    "    \n",
    "    def need_a_push(self):\n",
    "        print(\"只有子類別有這個method\")\n",
    "\n",
    "give_me_a_car = Car()\n",
    "give_me_a_yugo = Yugo()\n",
    "\n",
    "#Car 的實體\n",
    "give_me_a_car.exclaim()\n",
    "\n",
    "#Yugo 的實體   \n",
    "give_me_a_yugo.exclaim()\n",
    "\n",
    "#只有子類別有的實體方法\n",
    "give_me_a_yugo.need_a_push()"
   ]
  },
  {
   "cell_type": "code",
   "execution_count": 49,
   "id": "3f315b66",
   "metadata": {},
   "outputs": [
    {
     "name": "stdout",
     "output_type": "stream",
     "text": [
      "子類別執行\n",
      "子類別執行\n",
      "子類別執行\n",
      "oo\n",
      "醫生:dd\n",
      "律師:ll\n"
     ]
    }
   ],
   "source": [
    "class Person():\n",
    "    def __init__(self,name):\n",
    "        print('子類別執行')\n",
    "        self.name = name\n",
    "\n",
    "class MDPerson(Person):\n",
    "    #覆寫父類別\n",
    "    def __init__(self,name):\n",
    "        super().__init__(name)\n",
    "        self.name = '醫生:' + name\n",
    "\n",
    "class JDPerson(Person):\n",
    "    #覆寫父類別\n",
    "    def __init__(self,name):\n",
    "        super().__init__(name)\n",
    "        self.name = '律師:' + name\n",
    "\n",
    "person = Person('oo')\n",
    "doctor = MDPerson('dd')\n",
    "lawyer = JDPerson('ll')\n",
    "\n",
    "print(person.name)\n",
    "print(doctor.name)\n",
    "print(lawyer.name)"
   ]
  },
  {
   "cell_type": "code",
   "execution_count": 61,
   "id": "91ec7afe",
   "metadata": {},
   "outputs": [
    {
     "name": "stdout",
     "output_type": "stream",
     "text": [
      "bob\n",
      "bob@gmail.com\n"
     ]
    }
   ],
   "source": [
    "class Person():\n",
    "    def __init__(self,name):\n",
    "        self.name = name\n",
    "        \n",
    "class EmailPerson(Person):\n",
    "    def __init__(self,name,email):\n",
    "        super().__init__(name)\n",
    "        self.email = email\n",
    "        \n",
    "bob = EmailPerson(\"bob\", \"bob@gmail.com\")\n",
    "\n",
    "print(bob.name)\n",
    "print(bob.email)"
   ]
  },
  {
   "cell_type": "code",
   "execution_count": 62,
   "id": "53a25b38",
   "metadata": {},
   "outputs": [
    {
     "data": {
      "text/plain": [
       "'doc kol'"
      ]
     },
     "execution_count": 62,
     "metadata": {},
     "output_type": "execute_result"
    }
   ],
   "source": [
    "class Person():\n",
    "    def __init__(self,name):\n",
    "        self.name = name\n",
    "\n",
    "john = Person('John')\n",
    "john.name = 'doc kol'\n",
    "john.name"
   ]
  },
  {
   "cell_type": "code",
   "execution_count": 63,
   "id": "14720e49",
   "metadata": {},
   "outputs": [],
   "source": [
    "#property的目的 就是在保護attribute\n",
    "\n",
    "class Person():\n",
    "    def __init__(self,name,hight,weight):\n",
    "        self.name = name\n",
    "        self.hight = hight\n",
    "        self.weight = weight\n",
    "        "
   ]
  },
  {
   "cell_type": "code",
   "execution_count": 72,
   "id": "83332b68",
   "metadata": {},
   "outputs": [
    {
     "name": "stdout",
     "output_type": "stream",
     "text": [
      "john\n",
      "178\n",
      "180\n",
      "78\n"
     ]
    }
   ],
   "source": [
    "#__attribute, 意思代表java中的private, 不讓使用者知道有這個attribute\n",
    "\n",
    "class Person():\n",
    "    def __init__(self,name,hight,weight):\n",
    "        self.name = name\n",
    "        self.__hight = hight\n",
    "        self.__weight = weight\n",
    "\n",
    "    @property\n",
    "    def hight(self):\n",
    "        return self.__hight\n",
    "    @hight.setter\n",
    "    def hight(self, input_hight):\n",
    "        if(input_hight >250):\n",
    "            self.__hight = 250\n",
    "        elif(input_hight < 80):\n",
    "            self.__hight = 80\n",
    "        else:\n",
    "            self.__hight = input_hight\n",
    "        \n",
    "    @property\n",
    "    def weight(self):\n",
    "        return self.__weight\n",
    "    \n",
    "john = Person('john', 178, 78)\n",
    "print(john.name)\n",
    "print(john.hight) #getter\n",
    "john.hight = 180 #setter\n",
    "print(john.hight)\n",
    "\n",
    "print(john.weight)#getter\n",
    "#john.weight = 90 沒有實作property weight setter"
   ]
  },
  {
   "cell_type": "code",
   "execution_count": null,
   "id": "c197a107",
   "metadata": {},
   "outputs": [],
   "source": []
  },
  {
   "cell_type": "code",
   "execution_count": null,
   "id": "4668e59b",
   "metadata": {},
   "outputs": [],
   "source": []
  }
 ],
 "metadata": {
  "kernelspec": {
   "display_name": "Python 3 (ipykernel)",
   "language": "python",
   "name": "python3"
  },
  "language_info": {
   "codemirror_mode": {
    "name": "ipython",
    "version": 3
   },
   "file_extension": ".py",
   "mimetype": "text/x-python",
   "name": "python",
   "nbconvert_exporter": "python",
   "pygments_lexer": "ipython3",
   "version": "3.9.0"
  }
 },
 "nbformat": 4,
 "nbformat_minor": 5
}
