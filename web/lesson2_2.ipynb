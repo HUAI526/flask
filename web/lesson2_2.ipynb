{
 "cells": [
  {
   "cell_type": "code",
   "execution_count": 1,
   "id": "fcabec14",
   "metadata": {},
   "outputs": [
    {
     "name": "stdout",
     "output_type": "stream",
     "text": [
      "執行1次\n",
      "執行2次\n",
      "執行3次\n",
      "執行4次\n",
      "執行5次\n",
      "執行6次\n",
      "執行7次\n",
      "執行8次\n",
      "執行9次\n",
      "執行10次\n"
     ]
    }
   ],
   "source": [
    "w = 1\n",
    "while(w<=10):\n",
    "    print(f\"執行{w}次\")\n",
    "    w+=1"
   ]
  },
  {
   "cell_type": "code",
   "execution_count": 4,
   "id": "8dad64f8",
   "metadata": {},
   "outputs": [
    {
     "name": "stdout",
     "output_type": "stream",
     "text": [
      "請輸入小寫英文字「按下q會離開」：q\n",
      "over\n"
     ]
    }
   ],
   "source": [
    "#不知道要執行幾次\n",
    "#使用者決定要不要離開\n",
    "\n",
    "while(True):\n",
    "    stuff = input(\"請輸入小寫英文字「按下q會離開」：\")\n",
    "    \n",
    "    if stuff == 'q':\n",
    "        break\n",
    "    print(stuff.capitaliza)\n",
    "print(\"over\")"
   ]
  },
  {
   "cell_type": "code",
   "execution_count": 5,
   "id": "00bc3965",
   "metadata": {},
   "outputs": [
    {
     "name": "stdout",
     "output_type": "stream",
     "text": [
      "0\n",
      "2\n",
      "4\n",
      "6\n",
      "8\n"
     ]
    }
   ],
   "source": [
    "for i in range(0,10,2):\n",
    "    print(i)\n"
   ]
  },
  {
   "cell_type": "code",
   "execution_count": 7,
   "id": "cd2bcab9",
   "metadata": {},
   "outputs": [
    {
     "name": "stdout",
     "output_type": "stream",
     "text": [
      "1000\n",
      "900\n",
      "800\n",
      "700\n",
      "600\n",
      "500\n",
      "400\n",
      "300\n",
      "200\n",
      "100\n"
     ]
    }
   ],
   "source": [
    "for i in range(1000,0,-100):\n",
    "    print(i)"
   ]
  },
  {
   "cell_type": "code",
   "execution_count": 8,
   "id": "3971e5e5",
   "metadata": {},
   "outputs": [
    {
     "data": {
      "text/plain": [
       "11"
      ]
     },
     "execution_count": 8,
     "metadata": {},
     "output_type": "execute_result"
    }
   ],
   "source": [
    "import random as rd\n",
    "rd.randint(0,100)"
   ]
  },
  {
   "cell_type": "code",
   "execution_count": 24,
   "id": "6e47d3e5",
   "metadata": {},
   "outputs": [
    {
     "name": "stdout",
     "output_type": "stream",
     "text": [
      "終極密碼1~100\n",
      "請輸入數字：50\n",
      "再小一點\n",
      "你剩 9 次機會了\n",
      "請輸入數字：25\n",
      "再大一點\n",
      "你剩 8 次機會了\n",
      "請輸入數字：40\n",
      "你贏了\n",
      "答案是 40\n"
     ]
    }
   ],
   "source": [
    "print('終極密碼1~100')\n",
    "import random\n",
    "win = randint(1,100)\n",
    "\n",
    "x = 10\n",
    "\n",
    "while  True:\n",
    "    number = int(input('請輸入數字：'))\n",
    "    \n",
    "    if number == win:\n",
    "        print('你贏了')\n",
    "        break\n",
    "    elif number >= win :\n",
    "        print('再小一點')\n",
    "    elif number <= win :\n",
    "        print('再大一點')\n",
    "    elif x == 1:\n",
    "        print('你猜太多次了遊戲結束')\n",
    "        break\n",
    "    x = x - 1\n",
    "    print('你剩',x,'次機會了')\n",
    "print('答案是',win)"
   ]
  },
  {
   "cell_type": "code",
   "execution_count": null,
   "id": "c425a6ca",
   "metadata": {},
   "outputs": [],
   "source": []
  }
 ],
 "metadata": {
  "kernelspec": {
   "display_name": "Python 3 (ipykernel)",
   "language": "python",
   "name": "python3"
  },
  "language_info": {
   "codemirror_mode": {
    "name": "ipython",
    "version": 3
   },
   "file_extension": ".py",
   "mimetype": "text/x-python",
   "name": "python",
   "nbconvert_exporter": "python",
   "pygments_lexer": "ipython3",
   "version": "3.9.0"
  }
 },
 "nbformat": 4,
 "nbformat_minor": 5
}
