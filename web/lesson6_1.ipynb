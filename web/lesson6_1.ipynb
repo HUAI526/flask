{
 "cells": [
  {
   "cell_type": "code",
   "execution_count": 1,
   "id": "9663296c",
   "metadata": {},
   "outputs": [
    {
     "name": "stdout",
     "output_type": "stream",
     "text": [
      "出錯了\n"
     ]
    }
   ],
   "source": [
    "try:\n",
    "    short_list = [1,2,3]\n",
    "    position = 5\n",
    "    short_list[position]\n",
    "    \n",
    "except:\n",
    "    print(\"出錯了\")"
   ]
  },
  {
   "cell_type": "code",
   "execution_count": 2,
   "id": "1a6f37de",
   "metadata": {},
   "outputs": [
    {
     "name": "stdout",
     "output_type": "stream",
     "text": [
      "超出索引範圍\n"
     ]
    }
   ],
   "source": [
    "try:\n",
    "    short_list = [1,2,3]\n",
    "    position = 5\n",
    "    short_list[position]\n",
    "    \n",
    "except IndexError :\n",
    "    print(\"超出索引範圍\")\n",
    "except:\n",
    "    print(\"不知道錯在哪\")"
   ]
  },
  {
   "cell_type": "code",
   "execution_count": 3,
   "id": "e9e1c495",
   "metadata": {},
   "outputs": [
    {
     "name": "stdout",
     "output_type": "stream",
     "text": [
      "錯誤是list index out of range\n"
     ]
    }
   ],
   "source": [
    "try:\n",
    "    short_list = [1,2,3]\n",
    "    position = 5\n",
    "    short_list[position]\n",
    "    \n",
    "except IndexError as e:\n",
    "    print(f\"錯誤是{e}\")\n",
    "except:\n",
    "    print(\"不知道錯在哪\")"
   ]
  },
  {
   "cell_type": "code",
   "execution_count": 4,
   "id": "b034dd72",
   "metadata": {},
   "outputs": [
    {
     "data": {
      "text/plain": [
       "{'wine': '紅酒', 'entree': '雞排', 'dessert': '奶昔'}"
      ]
     },
     "execution_count": 4,
     "metadata": {},
     "output_type": "execute_result"
    }
   ],
   "source": [
    "#function 的參數有default value 呼叫的方式變多\n",
    "def menu(wine, entree, dessert='奶昔'):\n",
    "    return {'wine': wine, 'entree' : entree, 'dessert' : dessert }\n",
    "menu('紅酒','雞排')"
   ]
  },
  {
   "cell_type": "code",
   "execution_count": 5,
   "id": "6d978c4d",
   "metadata": {},
   "outputs": [
    {
     "data": {
      "text/plain": [
       "{'wine': '紅酒', 'entree': '雞排', 'dessert': '芒果冰沙'}"
      ]
     },
     "execution_count": 5,
     "metadata": {},
     "output_type": "execute_result"
    }
   ],
   "source": [
    "menu('紅酒','雞排', dessert='芒果冰沙')"
   ]
  },
  {
   "cell_type": "code",
   "execution_count": 8,
   "id": "0cb8220d",
   "metadata": {},
   "outputs": [
    {
     "name": "stdout",
     "output_type": "stream",
     "text": [
      "<class 'tuple'>\n",
      "args是tuple (3, 2, 1, 'wait', 'aaaa....')\n"
     ]
    }
   ],
   "source": [
    "#在定義function,參數使用*args\n",
    "#代表沒有限定數量是引數值\n",
    "\n",
    "def print_args(*args):\n",
    "    print(args.__class__)\n",
    "    print('args是tuple', args)\n",
    "print_args(3,2,1, 'wait','aaaa....')\n"
   ]
  },
  {
   "cell_type": "code",
   "execution_count": 12,
   "id": "e5ef696a",
   "metadata": {},
   "outputs": [
    {
     "name": "stdout",
     "output_type": "stream",
     "text": [
      "傳進來的dictionary是 {'wine': 'melot', 'entree': 'mutton', 'dessert': 'macaroon'}\n"
     ]
    }
   ],
   "source": [
    "def print_kwargs(**kwargs):\n",
    "    print('傳進來的dictionary是', kwargs)\n",
    "\n",
    "print_kwargs(wine='melot', entree='mutton',dessert='macaroon')"
   ]
  },
  {
   "cell_type": "code",
   "execution_count": 14,
   "id": "c44da84a",
   "metadata": {},
   "outputs": [
    {
     "name": "stdout",
     "output_type": "stream",
     "text": [
      "傳進來的dictionary是 {'wine': 'melot', 'entree': 'mutton', 'dessert': 'macaroon'}\n",
      "args是 (3, 2, 1, 'wait', 'aaaa....')\n"
     ]
    }
   ],
   "source": [
    "def print_kwargs_args(*args,**kwargs):\n",
    "    print('傳進來的dictionary是', kwargs)\n",
    "    print('args是', args)\n",
    "\n",
    "print_kwargs_args(3,2,1, 'wait','aaaa....', wine='melot', entree='mutton',dessert='macaroon')"
   ]
  },
  {
   "cell_type": "code",
   "execution_count": 16,
   "id": "376e765b",
   "metadata": {},
   "outputs": [
    {
     "name": "stdout",
     "output_type": "stream",
     "text": [
      "傳進來的dictionary是 {'wine': 'melot', 'entree': 'mutton', 'dessert': 'macroon'}\n"
     ]
    }
   ],
   "source": [
    "def print_kwargs(**kwargs):\n",
    "    print('傳進來的dictionary是',kwargs)\n",
    "    \n",
    "#呼叫時,使用**代表解開dictionary 成為引數名稱＝引數值\n",
    "\n",
    "kwargsDict = {'wine' : 'melot', 'entree' : 'mutton', 'dessert': 'macroon'}\n",
    "print_kwargs(**kwargsDict)"
   ]
  },
  {
   "cell_type": "code",
   "execution_count": 17,
   "id": "cc01a146",
   "metadata": {},
   "outputs": [
    {
     "name": "stdout",
     "output_type": "stream",
     "text": [
      "傳統函數處理\n",
      "432\n"
     ]
    }
   ],
   "source": [
    "\n",
    "def f(x,y,z):\n",
    "    return x + y + z\n",
    "print('傳統函數處理')\n",
    "print(f(2, 30, 400))"
   ]
  },
  {
   "cell_type": "code",
   "execution_count": 21,
   "id": "e47a4170",
   "metadata": {},
   "outputs": [
    {
     "name": "stdout",
     "output_type": "stream",
     "text": [
      "<function <lambda> at 0x7fa888635280>\n"
     ]
    },
    {
     "data": {
      "text/plain": [
       "<function __main__.<lambda>(x, y, z)>"
      ]
     },
     "execution_count": 21,
     "metadata": {},
     "output_type": "execute_result"
    }
   ],
   "source": [
    "#匿名的function\n",
    "#lambda\n",
    "\n",
    "f = lambda x, y, z: x + y + z\n",
    "print(f)\n",
    "f"
   ]
  },
  {
   "cell_type": "code",
   "execution_count": 22,
   "id": "b4d0f6cc",
   "metadata": {},
   "outputs": [
    {
     "data": {
      "text/plain": [
       "[2, 4, 6, 8, 10]"
      ]
     },
     "execution_count": 22,
     "metadata": {},
     "output_type": "execute_result"
    }
   ],
   "source": [
    "#use map()\n",
    "\n",
    "def multiply2(x):\n",
    "    return x*2\n",
    "\n",
    "newList = map(multiply2,[1,2,3,4,5])\n",
    "list(newList)"
   ]
  },
  {
   "cell_type": "code",
   "execution_count": 29,
   "id": "d19b7e3c",
   "metadata": {},
   "outputs": [
    {
     "data": {
      "text/plain": [
       "[2, 4, 6, 8, 10]"
      ]
     },
     "execution_count": 29,
     "metadata": {},
     "output_type": "execute_result"
    }
   ],
   "source": [
    "list(map(lambda 變數: 變數*2,[1,2,3,4,5]))"
   ]
  },
  {
   "cell_type": "code",
   "execution_count": null,
   "id": "bd4560fd",
   "metadata": {},
   "outputs": [],
   "source": []
  }
 ],
 "metadata": {
  "kernelspec": {
   "display_name": "Python 3 (ipykernel)",
   "language": "python",
   "name": "python3"
  },
  "language_info": {
   "codemirror_mode": {
    "name": "ipython",
    "version": 3
   },
   "file_extension": ".py",
   "mimetype": "text/x-python",
   "name": "python",
   "nbconvert_exporter": "python",
   "pygments_lexer": "ipython3",
   "version": "3.9.0"
  }
 },
 "nbformat": 4,
 "nbformat_minor": 5
}
