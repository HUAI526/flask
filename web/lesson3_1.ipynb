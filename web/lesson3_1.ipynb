{
 "cells": [
  {
   "cell_type": "code",
   "execution_count": 10,
   "id": "5dc9c9a5",
   "metadata": {},
   "outputs": [
    {
     "data": {
      "text/plain": [
       "3"
      ]
     },
     "execution_count": 10,
     "metadata": {},
     "output_type": "execute_result"
    }
   ],
   "source": [
    "#list extend\n",
    "list = ['a', 'b', 'c']\n",
    "len(list)"
   ]
  },
  {
   "cell_type": "code",
   "execution_count": 11,
   "id": "808e4679",
   "metadata": {},
   "outputs": [
    {
     "data": {
      "text/plain": [
       "['a', 'b', 'c']"
      ]
     },
     "execution_count": 11,
     "metadata": {},
     "output_type": "execute_result"
    }
   ],
   "source": [
    "list1 = list\n",
    "list1"
   ]
  },
  {
   "cell_type": "code",
   "execution_count": 12,
   "id": "e0cd3199",
   "metadata": {},
   "outputs": [
    {
     "data": {
      "text/plain": [
       "['a', 'b', 'c', 'd', 'e']"
      ]
     },
     "execution_count": 12,
     "metadata": {},
     "output_type": "execute_result"
    }
   ],
   "source": [
    "list1.extend(['d', 'e'])\n",
    "list1"
   ]
  },
  {
   "cell_type": "code",
   "execution_count": 13,
   "id": "fee8a708",
   "metadata": {},
   "outputs": [
    {
     "data": {
      "text/plain": [
       "['a', 'b', 'c', 'd', 'e']"
      ]
     },
     "execution_count": 13,
     "metadata": {},
     "output_type": "execute_result"
    }
   ],
   "source": [
    "list"
   ]
  },
  {
   "cell_type": "code",
   "execution_count": 18,
   "id": "e88da6ed",
   "metadata": {},
   "outputs": [
    {
     "name": "stdout",
     "output_type": "stream",
     "text": [
      "['a', 'b', 'c', 'd', 'e']\n",
      "['a', 'b', 'c', 'd', 'e', 'f', 'g']\n",
      "['a', 'b', 'c', 'd', 'e', 'f', 'g']\n"
     ]
    }
   ],
   "source": [
    "list2 = list + ['f', 'g']\n",
    "print(list)\n",
    "print(list2)#證明是新的\n",
    "list = list + ['f', 'g']\n",
    "print(list)#這已經不是原本的list"
   ]
  },
  {
   "cell_type": "code",
   "execution_count": 15,
   "id": "24691804",
   "metadata": {},
   "outputs": [
    {
     "data": {
      "text/plain": [
       "['a', 'b', 'c', 'd', 'e']"
      ]
     },
     "execution_count": 15,
     "metadata": {},
     "output_type": "execute_result"
    }
   ],
   "source": [
    "list1"
   ]
  },
  {
   "cell_type": "code",
   "execution_count": 20,
   "id": "fef59508",
   "metadata": {},
   "outputs": [
    {
     "data": {
      "text/plain": [
       "['在0的位置插入a1', 'a', 'b', 'c']"
      ]
     },
     "execution_count": 20,
     "metadata": {},
     "output_type": "execute_result"
    }
   ],
   "source": [
    "#insert\n",
    "list3 = ['a', 'b', 'c']\n",
    "list3.insert(0, '在0的位置插入a1')\n",
    "list3"
   ]
  },
  {
   "cell_type": "code",
   "execution_count": 22,
   "id": "bd0c52af",
   "metadata": {},
   "outputs": [
    {
     "data": {
      "text/plain": [
       "['台中', '高雄']"
      ]
     },
     "execution_count": 22,
     "metadata": {},
     "output_type": "execute_result"
    }
   ],
   "source": [
    "#remove\n",
    "citys = ['台北', '台中', '高雄']\n",
    "citys.remove('台北')\n",
    "citys"
   ]
  },
  {
   "cell_type": "code",
   "execution_count": 23,
   "id": "1f6611aa",
   "metadata": {},
   "outputs": [
    {
     "data": {
      "text/plain": [
       "['台中', '高雄']"
      ]
     },
     "execution_count": 23,
     "metadata": {},
     "output_type": "execute_result"
    }
   ],
   "source": [
    "#pop\n",
    "citys = ['台北', '台中', '高雄']\n",
    "citys.pop(0)\n",
    "citys"
   ]
  },
  {
   "cell_type": "code",
   "execution_count": 26,
   "id": "b1774fcf",
   "metadata": {},
   "outputs": [
    {
     "data": {
      "text/plain": [
       "['台北', '高雄']"
      ]
     },
     "execution_count": 26,
     "metadata": {},
     "output_type": "execute_result"
    }
   ],
   "source": [
    "#del\n",
    "citys = ['台北', '台中', '高雄']\n",
    "del citys[1]\n",
    "citys"
   ]
  },
  {
   "cell_type": "code",
   "execution_count": 27,
   "id": "9dd5b19a",
   "metadata": {},
   "outputs": [
    {
     "ename": "NameError",
     "evalue": "name 'citys' is not defined",
     "output_type": "error",
     "traceback": [
      "\u001b[0;31m---------------------------------------------------------------------------\u001b[0m",
      "\u001b[0;31mNameError\u001b[0m                                 Traceback (most recent call last)",
      "\u001b[0;32m/var/folders/7v/hbknvt9s0m5g36ht814n1_wc0000gn/T/ipykernel_7298/1770183566.py\u001b[0m in \u001b[0;36m<module>\u001b[0;34m\u001b[0m\n\u001b[1;32m      1\u001b[0m \u001b[0;32mdel\u001b[0m \u001b[0mcitys\u001b[0m\u001b[0;34m\u001b[0m\u001b[0;34m\u001b[0m\u001b[0m\n\u001b[0;32m----> 2\u001b[0;31m \u001b[0mcitys\u001b[0m\u001b[0;34m\u001b[0m\u001b[0;34m\u001b[0m\u001b[0m\n\u001b[0m",
      "\u001b[0;31mNameError\u001b[0m: name 'citys' is not defined"
     ]
    }
   ],
   "source": [
    "del citys\n",
    "citys#已經被delete掉,找不到了"
   ]
  },
  {
   "cell_type": "code",
   "execution_count": 28,
   "id": "49539910",
   "metadata": {},
   "outputs": [
    {
     "data": {
      "text/plain": [
       "1"
      ]
     },
     "execution_count": 28,
     "metadata": {},
     "output_type": "execute_result"
    }
   ],
   "source": [
    "#index(), in, count()\n",
    "citys = ['台北', '台中', '高雄']\n",
    "citys.index('台中')"
   ]
  },
  {
   "cell_type": "code",
   "execution_count": 29,
   "id": "57863f34",
   "metadata": {},
   "outputs": [
    {
     "data": {
      "text/plain": [
       "True"
      ]
     },
     "execution_count": 29,
     "metadata": {},
     "output_type": "execute_result"
    }
   ],
   "source": [
    "'台北' in citys #citys裡面有沒有台北"
   ]
  },
  {
   "cell_type": "code",
   "execution_count": 30,
   "id": "654c7da8",
   "metadata": {},
   "outputs": [
    {
     "data": {
      "text/plain": [
       "False"
      ]
     },
     "execution_count": 30,
     "metadata": {},
     "output_type": "execute_result"
    }
   ],
   "source": [
    "'花蓮' in citys #citys裡面有沒有花蓮"
   ]
  },
  {
   "cell_type": "code",
   "execution_count": 32,
   "id": "ec743967",
   "metadata": {},
   "outputs": [
    {
     "data": {
      "text/plain": [
       "2"
      ]
     },
     "execution_count": 32,
     "metadata": {},
     "output_type": "execute_result"
    }
   ],
   "source": [
    "citys = ['台北', '台中', '高雄', '高雄']\n",
    "citys.count('高雄') #裡面有幾個高雄"
   ]
  },
  {
   "cell_type": "code",
   "execution_count": 34,
   "id": "a3ab81ed",
   "metadata": {},
   "outputs": [
    {
     "data": {
      "text/plain": [
       "['Chico', 'Grouch', 'Harpo']"
      ]
     },
     "execution_count": 34,
     "metadata": {},
     "output_type": "execute_result"
    }
   ],
   "source": [
    "#sorted(), .sort()\n",
    "marxed = ['Grouch', 'Chico', 'Harpo']\n",
    "marxed = sorted(marxed)#修改裡面內容但是要用新（舊）的變數去裝\n",
    "marxed"
   ]
  },
  {
   "cell_type": "code",
   "execution_count": 35,
   "id": "c6798860",
   "metadata": {},
   "outputs": [
    {
     "data": {
      "text/plain": [
       "['D', 'a', 'b', 'c']"
      ]
     },
     "execution_count": 35,
     "metadata": {},
     "output_type": "execute_result"
    }
   ],
   "source": [
    "list = ['c', 'b', 'a', 'D']\n",
    "list.sort()#修改裡面內容\n",
    "list"
   ]
  },
  {
   "cell_type": "code",
   "execution_count": 37,
   "id": "2bf75aea",
   "metadata": {},
   "outputs": [
    {
     "data": {
      "text/plain": [
       "['c', 'b', 'a', 'D']"
      ]
     },
     "execution_count": 37,
     "metadata": {},
     "output_type": "execute_result"
    }
   ],
   "source": [
    "list.sort(reverse=True)#遞增,裡面是預設flase是遞減\n",
    "list"
   ]
  },
  {
   "cell_type": "code",
   "execution_count": 38,
   "id": "22beccfe",
   "metadata": {},
   "outputs": [
    {
     "data": {
      "text/plain": [
       "set()"
      ]
     },
     "execution_count": 38,
     "metadata": {},
     "output_type": "execute_result"
    }
   ],
   "source": [
    "#set\n",
    "empty_set = set()\n",
    "empty_set"
   ]
  },
  {
   "cell_type": "code",
   "execution_count": 39,
   "id": "79119bed",
   "metadata": {},
   "outputs": [
    {
     "data": {
      "text/plain": [
       "{0, 2, 4, 6, 8}"
      ]
     },
     "execution_count": 39,
     "metadata": {},
     "output_type": "execute_result"
    }
   ],
   "source": [
    "even_numbers = {0, 2, 4, 6, 8}\n",
    "even_numbers"
   ]
  },
  {
   "cell_type": "code",
   "execution_count": 40,
   "id": "7eeb8ee7",
   "metadata": {},
   "outputs": [
    {
     "data": {
      "text/plain": [
       "{1, 3, 5, 7, 9}"
      ]
     },
     "execution_count": 40,
     "metadata": {},
     "output_type": "execute_result"
    }
   ],
   "source": [
    "odd_numbers = {1, 3, 5, 7, 9}\n",
    "odd_numbers"
   ]
  },
  {
   "cell_type": "code",
   "execution_count": 50,
   "id": "b4cdfbc6",
   "metadata": {},
   "outputs": [
    {
     "name": "stdout",
     "output_type": "stream",
     "text": [
      "電腦選號＝[3, 4, 17, 20, 39, 42] 特別號＝35\n"
     ]
    }
   ],
   "source": [
    "#大樂透\n",
    "#1~49,6號碼＋特別號\n",
    "import random as rd\n",
    "\n",
    "awesomeNum = set()\n",
    "while len(awesomeNum) < 7:\n",
    "    awesomeNum.add(rd.randint(1,49))\n",
    "    \n",
    "awesomelist = sorted(awesomeNum)\n",
    "specia = awesomelist.pop(rd.randint(0,6))\n",
    "\n",
    "print(f\"電腦選號＝{awesomelist}\", f\"特別號＝{specia}\")"
   ]
  },
  {
   "cell_type": "code",
   "execution_count": 56,
   "id": "a7cac981",
   "metadata": {},
   "outputs": [
    {
     "name": "stdout",
     "output_type": "stream",
     "text": [
      "電腦選號＝[1, 4, 10, 13, 26, 38] 特別號＝8\n"
     ]
    }
   ],
   "source": [
    "#威力彩\n",
    "#1~38,6號碼＋特別號1~8\n",
    "import random as rd\n",
    "\n",
    "awesomeNum = set()\n",
    "while len(awesomeNum) < 6:\n",
    "    awesomeNum.add(rd.randint(1,38))\n",
    "    \n",
    "awesomelist = sorted(awesomeNum)\n",
    "\n",
    "specia = rd.randint(1,8)\n",
    "\n",
    "print(f\"電腦選號＝{awesomelist}\", f\"特別號＝{specia}\")"
   ]
  },
  {
   "cell_type": "code",
   "execution_count": 78,
   "id": "924def24",
   "metadata": {},
   "outputs": [],
   "source": [
    "def lottery():\n",
    "    import random as rd\n",
    "\n",
    "    awesomeNum = set()\n",
    "    while len(awesomeNum) < 7:\n",
    "        awesomeNum.add(rd.randint(1,49))\n",
    "    \n",
    "    awesomelist = sorted(awesomeNum)\n",
    "    specia = awesomelist.pop(rd.randint(0,6))\n",
    "    return (awesomelist,specia)"
   ]
  },
  {
   "cell_type": "code",
   "execution_count": 82,
   "id": "30a2d729",
   "metadata": {},
   "outputs": [
    {
     "name": "stdout",
     "output_type": "stream",
     "text": [
      "大樂透電腦選號（幾組）：5\n",
      "第1組\n",
      "4,5,19,24,25,45,特別號：41\n",
      "\n",
      "第2組\n",
      "9,17,23,26,32,43,特別號：45\n",
      "\n",
      "第3組\n",
      "10,17,33,37,39,41,特別號：43\n",
      "\n",
      "第4組\n",
      "4,15,25,43,45,46,特別號：40\n",
      "\n",
      "第5組\n",
      "19,28,31,33,45,48,特別號：26\n",
      "\n"
     ]
    }
   ],
   "source": [
    "hm = int(input(\"大樂透電腦選號（幾組）：\"))\n",
    "\n",
    "for i in range(hm):\n",
    "    six,one = lottery()\n",
    "    print(f'第{i+1}組')\n",
    "    for num in six:\n",
    "        print(num, end=',')\n",
    "    print(f'特別號：{one}')\n",
    "    print()\n",
    "    "
   ]
  },
  {
   "cell_type": "code",
   "execution_count": 87,
   "id": "577e6228",
   "metadata": {},
   "outputs": [],
   "source": [
    "def wl():\n",
    "    import random as rd\n",
    "\n",
    "    awesomeNum = set()\n",
    "    while len(awesomeNum) < 6:\n",
    "        awesomeNum.add(rd.randint(1,38))\n",
    "\n",
    "    awesomelist = sorted(awesomeNum)\n",
    "    specia = rd.randint(1,8)\n",
    "    return (awesomeNum, specia)"
   ]
  },
  {
   "cell_type": "code",
   "execution_count": 98,
   "id": "fef76d36",
   "metadata": {},
   "outputs": [
    {
     "name": "stdout",
     "output_type": "stream",
     "text": [
      "威力彩要幾組：3\n",
      "第1組\n",
      "32,34,9,20,27,30,特別號：8\n",
      "\n",
      "第2組\n",
      "34,16,18,19,25,26,特別號：7\n",
      "\n",
      "第3組\n",
      "3,4,8,15,20,23,特別號：2\n",
      "\n"
     ]
    }
   ],
   "source": [
    "wlc = int(input(\"威力彩要幾組：\"))\n",
    "\n",
    "for i in range(wlc):\n",
    "    six,one = wl()\n",
    "    print(f'第{i+1}組')\n",
    "    for num in six:\n",
    "        print(num, end=',')\n",
    "    print(f'特別號：{one}')\n",
    "    print()"
   ]
  },
  {
   "cell_type": "code",
   "execution_count": 99,
   "id": "daa83c8c",
   "metadata": {},
   "outputs": [
    {
     "data": {
      "text/plain": [
       "dict_keys(['綠燈', '黃燈', '紅燈'])"
      ]
     },
     "execution_count": 99,
     "metadata": {},
     "output_type": "execute_result"
    }
   ],
   "source": [
    "#dictionary, .keys(), values(), items()\n",
    "signals = {'綠燈':'走', '黃燈':'走快點', '紅燈':'停'}\n",
    "signals.keys()"
   ]
  },
  {
   "cell_type": "code",
   "execution_count": 100,
   "id": "343ea516",
   "metadata": {},
   "outputs": [
    {
     "data": {
      "text/plain": [
       "['綠燈', '黃燈', '紅燈']"
      ]
     },
     "execution_count": 100,
     "metadata": {},
     "output_type": "execute_result"
    }
   ],
   "source": [
    "[*signals.keys()]"
   ]
  },
  {
   "cell_type": "code",
   "execution_count": 104,
   "id": "3da9d98d",
   "metadata": {},
   "outputs": [
    {
     "name": "stdout",
     "output_type": "stream",
     "text": [
      "走\n",
      "走快點\n",
      "停\n"
     ]
    }
   ],
   "source": [
    "for value in signals.values():\n",
    "    print(value)"
   ]
  },
  {
   "cell_type": "code",
   "execution_count": 105,
   "id": "7c54c89d",
   "metadata": {},
   "outputs": [
    {
     "data": {
      "text/plain": [
       "dict_items([('綠燈', '走'), ('黃燈', '走快點'), ('紅燈', '停')])"
      ]
     },
     "execution_count": 105,
     "metadata": {},
     "output_type": "execute_result"
    }
   ],
   "source": [
    "signals.items()"
   ]
  },
  {
   "cell_type": "code",
   "execution_count": 112,
   "id": "3641b9fc",
   "metadata": {},
   "outputs": [
    {
     "name": "stdout",
     "output_type": "stream",
     "text": [
      "綠燈--->走\n",
      "黃燈--->走快點\n",
      "紅燈--->停\n"
     ]
    }
   ],
   "source": [
    "for key,value in signals.items():\n",
    "    print(f\"{key}--->{value}\")"
   ]
  },
  {
   "cell_type": "code",
   "execution_count": 113,
   "id": "449ccea1",
   "metadata": {},
   "outputs": [
    {
     "name": "stdout",
     "output_type": "stream",
     "text": [
      "綠燈\n",
      "黃燈\n",
      "紅燈\n"
     ]
    }
   ],
   "source": [
    "for key in signals:\n",
    "    print(f\"{key}\")"
   ]
  },
  {
   "cell_type": "code",
   "execution_count": null,
   "id": "51f62f85",
   "metadata": {},
   "outputs": [],
   "source": []
  }
 ],
 "metadata": {
  "kernelspec": {
   "display_name": "Python 3 (ipykernel)",
   "language": "python",
   "name": "python3"
  },
  "language_info": {
   "codemirror_mode": {
    "name": "ipython",
    "version": 3
   },
   "file_extension": ".py",
   "mimetype": "text/x-python",
   "name": "python",
   "nbconvert_exporter": "python",
   "pygments_lexer": "ipython3",
   "version": "3.9.0"
  }
 },
 "nbformat": 4,
 "nbformat_minor": 5
}
