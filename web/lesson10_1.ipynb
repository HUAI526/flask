{
 "cells": [
  {
   "cell_type": "code",
   "execution_count": 1,
   "id": "19b0e230",
   "metadata": {},
   "outputs": [
    {
     "data": {
      "text/plain": [
       "1642382997.384135"
      ]
     },
     "execution_count": 1,
     "metadata": {},
     "output_type": "execute_result"
    }
   ],
   "source": [
    "import time \n",
    "\n",
    "now = time.time()\n",
    "now"
   ]
  },
  {
   "cell_type": "code",
   "execution_count": 2,
   "id": "ba23e90d",
   "metadata": {},
   "outputs": [
    {
     "data": {
      "text/plain": [
       "'Mon Jan 17 09:29:57 2022'"
      ]
     },
     "execution_count": 2,
     "metadata": {},
     "output_type": "execute_result"
    }
   ],
   "source": [
    "time.ctime(now)"
   ]
  },
  {
   "cell_type": "code",
   "execution_count": 7,
   "id": "b22b5e42",
   "metadata": {},
   "outputs": [],
   "source": [
    "localtime_struct = time.localtime(now)"
   ]
  },
  {
   "cell_type": "code",
   "execution_count": 8,
   "id": "a5daeb1e",
   "metadata": {},
   "outputs": [
    {
     "data": {
      "text/plain": [
       "2022"
      ]
     },
     "execution_count": 8,
     "metadata": {},
     "output_type": "execute_result"
    }
   ],
   "source": [
    "localtime_struct.tm_year"
   ]
  },
  {
   "cell_type": "code",
   "execution_count": 12,
   "id": "76b8fb41",
   "metadata": {},
   "outputs": [
    {
     "data": {
      "text/plain": [
       "1"
      ]
     },
     "execution_count": 12,
     "metadata": {},
     "output_type": "execute_result"
    }
   ],
   "source": [
    "gmtime_struct = time.gmtime(now)\n",
    "gmtime_struct.tm_hour"
   ]
  },
  {
   "cell_type": "code",
   "execution_count": 13,
   "id": "084bdea4",
   "metadata": {},
   "outputs": [
    {
     "data": {
      "text/plain": [
       "time.struct_time(tm_year=2022, tm_mon=1, tm_mday=17, tm_hour=1, tm_min=29, tm_sec=57, tm_wday=0, tm_yday=17, tm_isdst=0)"
      ]
     },
     "execution_count": 13,
     "metadata": {},
     "output_type": "execute_result"
    }
   ],
   "source": [
    "gmtime_struct"
   ]
  },
  {
   "cell_type": "code",
   "execution_count": 14,
   "id": "9cc47a1b",
   "metadata": {},
   "outputs": [
    {
     "data": {
      "text/plain": [
       "time.struct_time(tm_year=2022, tm_mon=1, tm_mday=17, tm_hour=9, tm_min=29, tm_sec=57, tm_wday=0, tm_yday=17, tm_isdst=0)"
      ]
     },
     "execution_count": 14,
     "metadata": {},
     "output_type": "execute_result"
    }
   ],
   "source": [
    "localtime_struct"
   ]
  },
  {
   "cell_type": "code",
   "execution_count": 19,
   "id": "7d951f1f",
   "metadata": {},
   "outputs": [
    {
     "data": {
      "text/plain": [
       "'時間2022-01-17 09:01:57'"
      ]
     },
     "execution_count": 19,
     "metadata": {},
     "output_type": "execute_result"
    }
   ],
   "source": [
    "time.strftime('時間%Y-%m-%d %H:%m:%S', localtime_struct)"
   ]
  },
  {
   "cell_type": "code",
   "execution_count": null,
   "id": "b78ed361",
   "metadata": {},
   "outputs": [],
   "source": []
  }
 ],
 "metadata": {
  "kernelspec": {
   "display_name": "Python 3 (ipykernel)",
   "language": "python",
   "name": "python3"
  },
  "language_info": {
   "codemirror_mode": {
    "name": "ipython",
    "version": 3
   },
   "file_extension": ".py",
   "mimetype": "text/x-python",
   "name": "python",
   "nbconvert_exporter": "python",
   "pygments_lexer": "ipython3",
   "version": "3.9.0"
  }
 },
 "nbformat": 4,
 "nbformat_minor": 5
}
