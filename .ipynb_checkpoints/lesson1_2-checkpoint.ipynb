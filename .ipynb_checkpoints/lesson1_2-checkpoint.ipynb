{
 "cells": [
  {
   "cell_type": "code",
   "execution_count": 9,
   "id": "5e36ad15",
   "metadata": {},
   "outputs": [
    {
     "name": "stdout",
     "output_type": "stream",
     "text": [
      "3024 數學\n"
     ]
    }
   ],
   "source": [
    "math = 6*7*8*9#運算三次\n",
    "print(math,\"數學\")"
   ]
  },
  {
   "cell_type": "code",
   "execution_count": 11,
   "id": "7bfd6621",
   "metadata": {},
   "outputs": [
    {
     "data": {
      "text/plain": [
       "256"
      ]
     },
     "execution_count": 11,
     "metadata": {},
     "output_type": "execute_result"
    }
   ],
   "source": [
    "2 ** 8#次方"
   ]
  },
  {
   "cell_type": "code",
   "execution_count": 20,
   "id": "284077f2",
   "metadata": {},
   "outputs": [
    {
     "data": {
      "text/plain": [
       "10"
      ]
     },
     "execution_count": 20,
     "metadata": {},
     "output_type": "execute_result"
    }
   ],
   "source": [
    "2*(1+2)**2-2**2*2"
   ]
  },
  {
   "cell_type": "code",
   "execution_count": 21,
   "id": "953e3e0d",
   "metadata": {},
   "outputs": [
    {
     "data": {
      "text/plain": [
       "1"
      ]
     },
     "execution_count": 21,
     "metadata": {},
     "output_type": "execute_result"
    }
   ],
   "source": [
    "int(True)"
   ]
  },
  {
   "cell_type": "code",
   "execution_count": 23,
   "id": "41f7c60e",
   "metadata": {},
   "outputs": [
    {
     "data": {
      "text/plain": [
       "0"
      ]
     },
     "execution_count": 23,
     "metadata": {},
     "output_type": "execute_result"
    }
   ],
   "source": [
    "int(False)"
   ]
  },
  {
   "cell_type": "code",
   "execution_count": 24,
   "id": "05eda09a",
   "metadata": {},
   "outputs": [
    {
     "data": {
      "text/plain": [
       "123"
      ]
     },
     "execution_count": 24,
     "metadata": {},
     "output_type": "execute_result"
    }
   ],
   "source": [
    "int(\"123\")"
   ]
  },
  {
   "cell_type": "code",
   "execution_count": 31,
   "id": "6d4e8249",
   "metadata": {},
   "outputs": [
    {
     "data": {
      "text/plain": [
       "'123s'"
      ]
     },
     "execution_count": 31,
     "metadata": {},
     "output_type": "execute_result"
    }
   ],
   "source": [
    "str('123s')"
   ]
  },
  {
   "cell_type": "code",
   "execution_count": 32,
   "id": "35f81f01",
   "metadata": {},
   "outputs": [
    {
     "data": {
      "text/plain": [
       "'hello'"
      ]
     },
     "execution_count": 32,
     "metadata": {},
     "output_type": "execute_result"
    }
   ],
   "source": [
    "'hello'"
   ]
  },
  {
   "cell_type": "code",
   "execution_count": 33,
   "id": "98318263",
   "metadata": {},
   "outputs": [
    {
     "data": {
      "text/plain": [
       "'hello'"
      ]
     },
     "execution_count": 33,
     "metadata": {},
     "output_type": "execute_result"
    }
   ],
   "source": [
    "\"hello\""
   ]
  },
  {
   "cell_type": "code",
   "execution_count": 40,
   "id": "2b873bb6",
   "metadata": {},
   "outputs": [
    {
     "name": "stdout",
     "output_type": "stream",
     "text": [
      "數學數學數學\n",
      "數學數學數學\n",
      "數學數學數學\n",
      "數學數學數學數學\n"
     ]
    }
   ],
   "source": [
    "pome = \"\"\"數學數學數學\n",
    "數學數學數學\n",
    "數學數學數學\n",
    "數學數學數學數學\"\"\"\n",
    "\n",
    "pome\n",
    "\n",
    "print(pome)"
   ]
  },
  {
   "cell_type": "code",
   "execution_count": 41,
   "id": "590cc7ef",
   "metadata": {},
   "outputs": [
    {
     "name": "stdout",
     "output_type": "stream",
     "text": [
      "打字啊以為我不敢？\n"
     ]
    },
    {
     "data": {
      "text/plain": [
       "'以為我不敢？'"
      ]
     },
     "execution_count": 41,
     "metadata": {},
     "output_type": "execute_result"
    }
   ],
   "source": [
    "input(\"打字啊\")＃輸出是子串"
   ]
  },
  {
   "cell_type": "code",
   "execution_count": 42,
   "id": "09b74505",
   "metadata": {},
   "outputs": [
    {
     "name": "stdout",
     "output_type": "stream",
     "text": [
      "輸入金額344\n"
     ]
    },
    {
     "data": {
      "text/plain": [
       "344"
      ]
     },
     "execution_count": 42,
     "metadata": {},
     "output_type": "execute_result"
    }
   ],
   "source": [
    "money = int(input(\"輸入金額\"))#輸出是字串所以要轉成int\n",
    "money"
   ]
  },
  {
   "cell_type": "code",
   "execution_count": 43,
   "id": "caebeab3",
   "metadata": {},
   "outputs": [
    {
     "data": {
      "text/plain": [
       "(45, 98)"
      ]
     },
     "execution_count": 43,
     "metadata": {},
     "output_type": "execute_result"
    }
   ],
   "source": [
    "tu = (45,98,99)\n",
    "tu"
   ]
  },
  {
   "cell_type": "code",
   "execution_count": 47,
   "id": "c2880232",
   "metadata": {},
   "outputs": [
    {
     "name": "stdout",
     "output_type": "stream",
     "text": [
      "45 98\n"
     ]
    }
   ],
   "source": [
    "a, b, c= tu\n",
    "print(a,b,c)\n",
    "print(\"a=%d\" % a)\n",
    "print(\"b={}\".format(b))\n",
    "print(f\"c={c}\")"
   ]
  },
  {
   "cell_type": "code",
   "execution_count": null,
   "id": "d05b40a3",
   "metadata": {},
   "outputs": [],
   "source": []
  }
 ],
 "metadata": {
  "kernelspec": {
   "display_name": "Python 3 (ipykernel)",
   "language": "python",
   "name": "python3"
  },
  "language_info": {
   "codemirror_mode": {
    "name": "ipython",
    "version": 3
   },
   "file_extension": ".py",
   "mimetype": "text/x-python",
   "name": "python",
   "nbconvert_exporter": "python",
   "pygments_lexer": "ipython3",
   "version": "3.9.0"
  }
 },
 "nbformat": 4,
 "nbformat_minor": 5
}
